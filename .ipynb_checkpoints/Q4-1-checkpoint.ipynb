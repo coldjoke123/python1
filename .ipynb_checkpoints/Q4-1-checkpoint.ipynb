{
 "cells": [
  {
   "cell_type": "markdown",
   "metadata": {},
   "source": [
    "# 從政府資料開放平台下載新北市公共自行車租賃系統(YouBike)\n",
    "去除其中的經緯度、中文地址、英文場站區域、英文場站名稱、英文地址"
   ]
  },
  {
   "cell_type": "code",
   "execution_count": 138,
   "metadata": {},
   "outputs": [
    {
     "data": {
      "text/html": [
       "<div>\n",
       "<style>\n",
       "    .dataframe thead tr:only-child th {\n",
       "        text-align: right;\n",
       "    }\n",
       "\n",
       "    .dataframe thead th {\n",
       "        text-align: left;\n",
       "    }\n",
       "\n",
       "    .dataframe tbody tr th {\n",
       "        vertical-align: top;\n",
       "    }\n",
       "</style>\n",
       "<table border=\"1\" class=\"dataframe\">\n",
       "  <thead>\n",
       "    <tr style=\"text-align: right;\">\n",
       "      <th></th>\n",
       "      <th>站點代號</th>\n",
       "      <th>中文場站名稱</th>\n",
       "      <th>場站總停車格</th>\n",
       "      <th>可借車位數</th>\n",
       "      <th>中文場站區域</th>\n",
       "      <th>資料更新時間</th>\n",
       "      <th>可還空位數</th>\n",
       "      <th>場站是否暫停營運</th>\n",
       "    </tr>\n",
       "  </thead>\n",
       "  <tbody>\n",
       "    <tr>\n",
       "      <th>0</th>\n",
       "      <td>1001</td>\n",
       "      <td>大鵬華城</td>\n",
       "      <td>38</td>\n",
       "      <td>8</td>\n",
       "      <td>新店區</td>\n",
       "      <td>20181230003928</td>\n",
       "      <td>30</td>\n",
       "      <td>1</td>\n",
       "    </tr>\n",
       "    <tr>\n",
       "      <th>1</th>\n",
       "      <td>1002</td>\n",
       "      <td>汐止火車站</td>\n",
       "      <td>56</td>\n",
       "      <td>13</td>\n",
       "      <td>汐止區</td>\n",
       "      <td>20181230003928</td>\n",
       "      <td>41</td>\n",
       "      <td>1</td>\n",
       "    </tr>\n",
       "    <tr>\n",
       "      <th>2</th>\n",
       "      <td>1003</td>\n",
       "      <td>汐止區公所</td>\n",
       "      <td>46</td>\n",
       "      <td>27</td>\n",
       "      <td>汐止區</td>\n",
       "      <td>20181230003929</td>\n",
       "      <td>19</td>\n",
       "      <td>1</td>\n",
       "    </tr>\n",
       "    <tr>\n",
       "      <th>3</th>\n",
       "      <td>1004</td>\n",
       "      <td>國泰綜合醫院</td>\n",
       "      <td>56</td>\n",
       "      <td>17</td>\n",
       "      <td>汐止區</td>\n",
       "      <td>20181230003921</td>\n",
       "      <td>39</td>\n",
       "      <td>1</td>\n",
       "    </tr>\n",
       "    <tr>\n",
       "      <th>4</th>\n",
       "      <td>1005</td>\n",
       "      <td>裕隆公園</td>\n",
       "      <td>40</td>\n",
       "      <td>32</td>\n",
       "      <td>新店區</td>\n",
       "      <td>20181230003934</td>\n",
       "      <td>8</td>\n",
       "      <td>1</td>\n",
       "    </tr>\n",
       "  </tbody>\n",
       "</table>\n",
       "</div>"
      ],
      "text/plain": [
       "   站點代號  中文場站名稱  場站總停車格  可借車位數 中文場站區域          資料更新時間  可還空位數  場站是否暫停營運\n",
       "0  1001    大鵬華城      38      8    新店區  20181230003928     30         1\n",
       "1  1002   汐止火車站      56     13    汐止區  20181230003928     41         1\n",
       "2  1003   汐止區公所      46     27    汐止區  20181230003929     19         1\n",
       "3  1004  國泰綜合醫院      56     17    汐止區  20181230003921     39         1\n",
       "4  1005    裕隆公園      40     32    新店區  20181230003934      8         1"
      ]
     },
     "execution_count": 138,
     "metadata": {},
     "output_type": "execute_result"
    }
   ],
   "source": [
    "%matplotlib inline\n",
    "\n",
    "import numpy as np\n",
    "import matplotlib.pyplot as plt\n",
    "import pandas as pd\n",
    "df = pd.read_csv(\"https://quality.data.gov.tw/dq_download_csv.php?nid=28318&md5_url=45daed3330c8be0e1174e2f17b961d0a\",encoding=\"UTF-8\")\n",
    "df.drop(df.columns[[6,7,8,9,10,11]], axis=1, inplace=True)\n",
    "column_name = ['站點代號','中文場站名稱','場站總停車格','可借車位數','中文場站區域','資料更新時間','可還空位數','場站是否暫停營運']\n",
    "df.columns = column_name\n",
    "df.head()"
   ]
  },
  {
   "cell_type": "markdown",
   "metadata": {},
   "source": [
    "district 內存放行政區(不重複的)"
   ]
  },
  {
   "cell_type": "code",
   "execution_count": 151,
   "metadata": {},
   "outputs": [],
   "source": [
    "area = df['中文場站區域']\n",
    "district = []\n",
    "for i in range(len(area)):\n",
    "    if area[i] not in district:\n",
    "        district.append(area[i])"
   ]
  },
  {
   "cell_type": "code",
   "execution_count": 193,
   "metadata": {},
   "outputs": [],
   "source": [
    "def f(x):\n",
    "    district1 = df[df['中文場站區域'] == x]\n",
    "    a = int(sum(district1['可還空位數']))\n",
    "    b = float(sum(district1['場站總停車格']))\n",
    "    print(x)\n",
    "    print('%d 個可還空位數，%d 個停車格，借車率為 %f' %(a,int(b),a/b))\n",
    "    #print('a = %d',a)\n",
    "    #print('b = %d',b)\n"
   ]
  },
  {
   "cell_type": "markdown",
   "metadata": {},
   "source": [
    "透過選取行政區來知道該區域ubike的總停車數以及已借車數，並計算該區域的借車率為何？"
   ]
  },
  {
   "cell_type": "code",
   "execution_count": 196,
   "metadata": {},
   "outputs": [
    {
     "data": {
      "application/vnd.jupyter.widget-view+json": {
       "model_id": "cc697d24ff7d48a1b88a0d85ad5cc4a6",
       "version_major": 2,
       "version_minor": 0
      },
      "text/plain": [
       "A Jupyter Widget"
      ]
     },
     "metadata": {},
     "output_type": "display_data"
    }
   ],
   "source": [
    "from ipywidgets import interact\n",
    "interact(f, x = district);"
   ]
  },
  {
   "cell_type": "code",
   "execution_count": null,
   "metadata": {
    "collapsed": true
   },
   "outputs": [],
   "source": []
  }
 ],
 "metadata": {
  "kernelspec": {
   "display_name": "Python 2",
   "language": "python",
   "name": "python2"
  },
  "language_info": {
   "codemirror_mode": {
    "name": "ipython",
    "version": 2
   },
   "file_extension": ".py",
   "mimetype": "text/x-python",
   "name": "python",
   "nbconvert_exporter": "python",
   "pygments_lexer": "ipython2",
   "version": "2.7.14"
  }
 },
 "nbformat": 4,
 "nbformat_minor": 2
}
