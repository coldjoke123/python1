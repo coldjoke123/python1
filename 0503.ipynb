{
  "nbformat": 4,
  "nbformat_minor": 0,
  "metadata": {
    "colab": {
      "name": "0503.ipynb",
      "version": "0.3.2",
      "provenance": [],
      "include_colab_link": true
    },
    "kernelspec": {
      "name": "python3",
      "display_name": "Python 3"
    }
  },
  "cells": [
    {
      "cell_type": "markdown",
      "metadata": {
        "id": "view-in-github",
        "colab_type": "text"
      },
      "source": [
        "<a href=\"https://colab.research.google.com/github/coldjoke123/python1/blob/master/0503.ipynb\" target=\"_parent\"><img src=\"https://colab.research.google.com/assets/colab-badge.svg\" alt=\"Open In Colab\"/></a>"
      ]
    },
    {
      "cell_type": "code",
      "metadata": {
        "id": "V_flzoc5giyZ",
        "colab_type": "code",
        "outputId": "a0ae684d-3eb9-4680-aba1-b73dc72c1e79",
        "colab": {
          "base_uri": "https://localhost:8080/",
          "height": 34
        }
      },
      "source": [
        "%env KERAS_BACKEND = tensorflow"
      ],
      "execution_count": 61,
      "outputs": [
        {
          "output_type": "stream",
          "text": [
            "env: KERAS_BACKEND=tensorflow\n"
          ],
          "name": "stdout"
        }
      ]
    },
    {
      "cell_type": "code",
      "metadata": {
        "id": "-PH6jhoPg9hU",
        "colab_type": "code",
        "colab": {}
      },
      "source": [
        "%matplotlib inline\n",
        "\n",
        "import numpy as np\n",
        "import matplotlib.pyplot as plt\n",
        "from keras.datasets import mnist"
      ],
      "execution_count": 0,
      "outputs": []
    },
    {
      "cell_type": "markdown",
      "metadata": {
        "id": "oOplIwgYsMR4",
        "colab_type": "text"
      },
      "source": [
        "# 引入手寫數字資料"
      ]
    },
    {
      "cell_type": "code",
      "metadata": {
        "id": "GzFhPxCWhwFt",
        "colab_type": "code",
        "colab": {}
      },
      "source": [
        "(x_train,y_train),(x_test,y_test) = mnist.load_data()"
      ],
      "execution_count": 0,
      "outputs": []
    },
    {
      "cell_type": "code",
      "metadata": {
        "id": "NhuhZDvgg9vw",
        "colab_type": "code",
        "colab": {}
      },
      "source": [
        "x_train = x_train.reshape(60000,28,28,1)\n",
        "x_test = x_test.reshape(10000,28,28,1)"
      ],
      "execution_count": 0,
      "outputs": []
    },
    {
      "cell_type": "code",
      "metadata": {
        "id": "awO30yOxhCF1",
        "colab_type": "code",
        "colab": {
          "base_uri": "https://localhost:8080/",
          "height": 286
        },
        "outputId": "147117ef-473d-40ae-d670-9a0f11cacaf8"
      },
      "source": [
        "X = x_train[330].reshape(28,28)\n",
        "plt.imshow(X, cmap = 'Greys')"
      ],
      "execution_count": 65,
      "outputs": [
        {
          "output_type": "execute_result",
          "data": {
            "text/plain": [
              "<matplotlib.image.AxesImage at 0x7f7095ae3320>"
            ]
          },
          "metadata": {
            "tags": []
          },
          "execution_count": 65
        },
        {
          "output_type": "display_data",
          "data": {
            "image/png": "[encoded data removed]",
            "text/plain": [
              "<Figure size 432x288 with 1 Axes>"
            ]
          },
          "metadata": {
            "tags": []
          }
        }
      ]
    },
    {
      "cell_type": "markdown",
      "metadata": {
        "id": "9fwpwn-SUlGD",
        "colab_type": "text"
      },
      "source": [
        "# 基本資料的調整"
      ]
    },
    {
      "cell_type": "code",
      "metadata": {
        "id": "w_gRBh6ghCSF",
        "colab_type": "code",
        "colab": {}
      },
      "source": [
        "from keras.utils import np_utils\n",
        "y_train = np_utils.to_categorical(y_train, 10)\n",
        "y_test = np_utils.to_categorical(y_test, 10)"
      ],
      "execution_count": 0,
      "outputs": []
    },
    {
      "cell_type": "code",
      "metadata": {
        "id": "8EjsnuqliuhZ",
        "colab_type": "code",
        "colab": {}
      },
      "source": [
        "x_train = x_train/255\n",
        "x_test = x_test/255"
      ],
      "execution_count": 0,
      "outputs": []
    },
    {
      "cell_type": "code",
      "metadata": {
        "id": "1QT-0TH8iukP",
        "colab_type": "code",
        "colab": {}
      },
      "source": [
        "from keras.models import Sequential\n",
        "from keras.layers import Dense, Activation, Flatten\n",
        "from keras.layers import Conv2D, MaxPool2D\n",
        "from keras.optimizers import SGD\n",
        "from keras.layers import Input\n",
        "from keras.layers import concatenate, add\n",
        "from keras.models import Model"
      ],
      "execution_count": 0,
      "outputs": []
    },
    {
      "cell_type": "markdown",
      "metadata": {
        "id": "SnOey81KUqvT",
        "colab_type": "text"
      },
      "source": [
        "# 構造模型，選用三層CNN及兩層有分支的NN"
      ]
    },
    {
      "cell_type": "code",
      "metadata": {
        "id": "HmkqctRQiumb",
        "colab_type": "code",
        "colab": {}
      },
      "source": [
        "x = Input(shape=(28,28,1))"
      ],
      "execution_count": 0,
      "outputs": []
    },
    {
      "cell_type": "code",
      "metadata": {
        "id": "nGqT__bliupC",
        "colab_type": "code",
        "colab": {}
      },
      "source": [
        "f_1 = Conv2D(8,(5,5), padding='same',activation='relu')\n",
        "p_1 = MaxPool2D(pool_size=(2,2))\n",
        "f_2 = Conv2D(16,(5,5), padding='same', activation='relu')\n",
        "p_2 = MaxPool2D(pool_size=(2,2))\n",
        "f_3 = Conv2D(32,(5,5), padding='same', activation='sigmoid')\n",
        "p_3 = MaxPool2D(pool_size=(2,2))\n",
        "f_41 = Dense(50, activation='relu')\n",
        "f_42 = Dense(30, activation='sigmoid')\n",
        "f_5 = Dense(30, activation='relu')\n",
        "f_6 = Dense(10, activation='softmax')"
      ],
      "execution_count": 0,
      "outputs": []
    },
    {
      "cell_type": "code",
      "metadata": {
        "id": "-3-RRUYzzXwm",
        "colab_type": "code",
        "colab": {}
      },
      "source": [
        "h_1 = p_1(f_1(x))\n",
        "h_2 = p_2(f_2(h_1))\n",
        "h_3 = Flatten()(p_3(f_3(h_2)))\n",
        "h_41 = f_41(h_3)\n",
        "h_42 = f_42(h_3)\n",
        "h_5 = concatenate([h_41, h_42])\n",
        "u = f_5(h_5)\n",
        "y = f_6(u)"
      ],
      "execution_count": 0,
      "outputs": []
    },
    {
      "cell_type": "code",
      "metadata": {
        "id": "rT35_pmv0pJK",
        "colab_type": "code",
        "colab": {}
      },
      "source": [
        "model = Model(x,y)"
      ],
      "execution_count": 0,
      "outputs": []
    },
    {
      "cell_type": "markdown",
      "metadata": {
        "id": "6UddH2n5zZNI",
        "colab_type": "text"
      },
      "source": [
        "# 下圖為此模型的圖像"
      ]
    },
    {
      "cell_type": "code",
      "metadata": {
        "id": "E1cFMdkCzXzX",
        "colab_type": "code",
        "colab": {
          "base_uri": "https://localhost:8080/",
          "height": 1152
        },
        "outputId": "fe2935d8-e49c-4139-8860-76a010e39176"
      },
      "source": [
        "from IPython.display import SVG\n",
        "from keras.utils.vis_utils import model_to_dot\n",
        "\n",
        "SVG(model_to_dot(model).create(prog='dot', format='svg'))"
      ],
      "execution_count": 79,
      "outputs": [
        {
          "output_type": "execute_result",
          "data": {
            "text/plain": [
              "<IPython.core.display.SVG object>"
            ],
            "image/svg+xml": "<svg height=\"848pt\" viewBox=\"0.00 0.00 254.00 848.00\" width=\"254pt\" xmlns=\"http://www.w3.org/2000/svg\" xmlns:xlink=\"http://www.w3.org/1999/xlink\">\n<g class=\"graph\" id=\"graph0\" transform=\"scale(1 1) rotate(0) translate(4 844)\">\n<title>G</title>\n<polygon fill=\"#ffffff\" points=\"-4,4 -4,-844 250,-844 250,4 -4,4\" stroke=\"transparent\"/>\n<!-- 140121524469544 -->\n<g class=\"node\" id=\"node1\">\n<title>140121524469544</title>\n<polygon fill=\"none\" points=\"56.5,-803.5 56.5,-839.5 189.5,-839.5 189.5,-803.5 56.5,-803.5\" stroke=\"#000000\"/>\n<text fill=\"#000000\" font-family=\"Times,serif\" font-size=\"14.00\" text-anchor=\"middle\" x=\"123\" y=\"-817.8\">input_5: InputLayer</text>\n</g>\n<!-- 140121522385584 -->\n<g class=\"node\" id=\"node2\">\n<title>140121522385584</title>\n<polygon fill=\"none\" points=\"53,-730.5 53,-766.5 193,-766.5 193,-730.5 53,-730.5\" stroke=\"#000000\"/>\n<text fill=\"#000000\" font-family=\"Times,serif\" font-size=\"14.00\" text-anchor=\"middle\" x=\"123\" y=\"-744.8\">conv2d_16: Conv2D</text>\n</g>\n<!-- 140121524469544&#45;&gt;140121522385584 -->\n<g class=\"edge\" id=\"edge1\">\n<title>140121524469544-&gt;140121522385584</title>\n<path d=\"M123,-803.4551C123,-795.3828 123,-785.6764 123,-776.6817\" fill=\"none\" stroke=\"#000000\"/>\n<polygon fill=\"#000000\" points=\"126.5001,-776.5903 123,-766.5904 119.5001,-776.5904 126.5001,-776.5903\" stroke=\"#000000\"/>\n</g>\n<!-- 140121522385528 -->\n<g class=\"node\" id=\"node3\">\n<title>140121522385528</title>\n<polygon fill=\"none\" points=\"8.5,-657.5 8.5,-693.5 237.5,-693.5 237.5,-657.5 8.5,-657.5\" stroke=\"#000000\"/>\n<text fill=\"#000000\" font-family=\"Times,serif\" font-size=\"14.00\" text-anchor=\"middle\" x=\"123\" y=\"-671.8\">max_pooling2d_16: MaxPooling2D</text>\n</g>\n<!-- 140121522385584&#45;&gt;140121522385528 -->\n<g class=\"edge\" id=\"edge2\">\n<title>140121522385584-&gt;140121522385528</title>\n<path d=\"M123,-730.4551C123,-722.3828 123,-712.6764 123,-703.6817\" fill=\"none\" stroke=\"#000000\"/>\n<polygon fill=\"#000000\" points=\"126.5001,-703.5903 123,-693.5904 119.5001,-703.5904 126.5001,-703.5903\" stroke=\"#000000\"/>\n</g>\n<!-- 140121522386256 -->\n<g class=\"node\" id=\"node4\">\n<title>140121522386256</title>\n<polygon fill=\"none\" points=\"53,-584.5 53,-620.5 193,-620.5 193,-584.5 53,-584.5\" stroke=\"#000000\"/>\n<text fill=\"#000000\" font-family=\"Times,serif\" font-size=\"14.00\" text-anchor=\"middle\" x=\"123\" y=\"-598.8\">conv2d_17: Conv2D</text>\n</g>\n<!-- 140121522385528&#45;&gt;140121522386256 -->\n<g class=\"edge\" id=\"edge3\">\n<title>140121522385528-&gt;140121522386256</title>\n<path d=\"M123,-657.4551C123,-649.3828 123,-639.6764 123,-630.6817\" fill=\"none\" stroke=\"#000000\"/>\n<polygon fill=\"#000000\" points=\"126.5001,-630.5903 123,-620.5904 119.5001,-630.5904 126.5001,-630.5903\" stroke=\"#000000\"/>\n</g>\n<!-- 140121522385976 -->\n<g class=\"node\" id=\"node5\">\n<title>140121522385976</title>\n<polygon fill=\"none\" points=\"8.5,-511.5 8.5,-547.5 237.5,-547.5 237.5,-511.5 8.5,-511.5\" stroke=\"#000000\"/>\n<text fill=\"#000000\" font-family=\"Times,serif\" font-size=\"14.00\" text-anchor=\"middle\" x=\"123\" y=\"-525.8\">max_pooling2d_17: MaxPooling2D</text>\n</g>\n<!-- 140121522386256&#45;&gt;140121522385976 -->\n<g class=\"edge\" id=\"edge4\">\n<title>140121522386256-&gt;140121522385976</title>\n<path d=\"M123,-584.4551C123,-576.3828 123,-566.6764 123,-557.6817\" fill=\"none\" stroke=\"#000000\"/>\n<polygon fill=\"#000000\" points=\"126.5001,-557.5903 123,-547.5904 119.5001,-557.5904 126.5001,-557.5903\" stroke=\"#000000\"/>\n</g>\n<!-- 140121522386816 -->\n<g class=\"node\" id=\"node6\">\n<title>140121522386816</title>\n<polygon fill=\"none\" points=\"53,-438.5 53,-474.5 193,-474.5 193,-438.5 53,-438.5\" stroke=\"#000000\"/>\n<text fill=\"#000000\" font-family=\"Times,serif\" font-size=\"14.00\" text-anchor=\"middle\" x=\"123\" y=\"-452.8\">conv2d_18: Conv2D</text>\n</g>\n<!-- 140121522385976&#45;&gt;140121522386816 -->\n<g class=\"edge\" id=\"edge5\">\n<title>140121522385976-&gt;140121522386816</title>\n<path d=\"M123,-511.4551C123,-503.3828 123,-493.6764 123,-484.6817\" fill=\"none\" stroke=\"#000000\"/>\n<polygon fill=\"#000000\" points=\"126.5001,-484.5903 123,-474.5904 119.5001,-484.5904 126.5001,-484.5903\" stroke=\"#000000\"/>\n</g>\n<!-- 140121522386648 -->\n<g class=\"node\" id=\"node7\">\n<title>140121522386648</title>\n<polygon fill=\"none\" points=\"8.5,-365.5 8.5,-401.5 237.5,-401.5 237.5,-365.5 8.5,-365.5\" stroke=\"#000000\"/>\n<text fill=\"#000000\" font-family=\"Times,serif\" font-size=\"14.00\" text-anchor=\"middle\" x=\"123\" y=\"-379.8\">max_pooling2d_18: MaxPooling2D</text>\n</g>\n<!-- 140121522386816&#45;&gt;140121522386648 -->\n<g class=\"edge\" id=\"edge6\">\n<title>140121522386816-&gt;140121522386648</title>\n<path d=\"M123,-438.4551C123,-430.3828 123,-420.6764 123,-411.6817\" fill=\"none\" stroke=\"#000000\"/>\n<polygon fill=\"#000000\" points=\"126.5001,-411.5903 123,-401.5904 119.5001,-411.5904 126.5001,-411.5903\" stroke=\"#000000\"/>\n</g>\n<!-- 140121522418856 -->\n<g class=\"node\" id=\"node8\">\n<title>140121522418856</title>\n<polygon fill=\"none\" points=\"66.5,-292.5 66.5,-328.5 179.5,-328.5 179.5,-292.5 66.5,-292.5\" stroke=\"#000000\"/>\n<text fill=\"#000000\" font-family=\"Times,serif\" font-size=\"14.00\" text-anchor=\"middle\" x=\"123\" y=\"-306.8\">flatten_8: Flatten</text>\n</g>\n<!-- 140121522386648&#45;&gt;140121522418856 -->\n<g class=\"edge\" id=\"edge7\">\n<title>140121522386648-&gt;140121522418856</title>\n<path d=\"M123,-365.4551C123,-357.3828 123,-347.6764 123,-338.6817\" fill=\"none\" stroke=\"#000000\"/>\n<polygon fill=\"#000000\" points=\"126.5001,-338.5903 123,-328.5904 119.5001,-338.5904 126.5001,-338.5903\" stroke=\"#000000\"/>\n</g>\n<!-- 140121522387208 -->\n<g class=\"node\" id=\"node9\">\n<title>140121522387208</title>\n<polygon fill=\"none\" points=\"0,-219.5 0,-255.5 114,-255.5 114,-219.5 0,-219.5\" stroke=\"#000000\"/>\n<text fill=\"#000000\" font-family=\"Times,serif\" font-size=\"14.00\" text-anchor=\"middle\" x=\"57\" y=\"-233.8\">dense_33: Dense</text>\n</g>\n<!-- 140121522418856&#45;&gt;140121522387208 -->\n<g class=\"edge\" id=\"edge8\">\n<title>140121522418856-&gt;140121522387208</title>\n<path d=\"M106.6854,-292.4551C98.6733,-283.5932 88.8804,-272.7616 80.1132,-263.0646\" fill=\"none\" stroke=\"#000000\"/>\n<polygon fill=\"#000000\" points=\"82.6584,-260.6609 73.3557,-255.5904 77.4659,-265.3554 82.6584,-260.6609\" stroke=\"#000000\"/>\n</g>\n<!-- 140121522387432 -->\n<g class=\"node\" id=\"node10\">\n<title>140121522387432</title>\n<polygon fill=\"none\" points=\"132,-219.5 132,-255.5 246,-255.5 246,-219.5 132,-219.5\" stroke=\"#000000\"/>\n<text fill=\"#000000\" font-family=\"Times,serif\" font-size=\"14.00\" text-anchor=\"middle\" x=\"189\" y=\"-233.8\">dense_34: Dense</text>\n</g>\n<!-- 140121522418856&#45;&gt;140121522387432 -->\n<g class=\"edge\" id=\"edge9\">\n<title>140121522418856-&gt;140121522387432</title>\n<path d=\"M139.3146,-292.4551C147.3267,-283.5932 157.1196,-272.7616 165.8868,-263.0646\" fill=\"none\" stroke=\"#000000\"/>\n<polygon fill=\"#000000\" points=\"168.5341,-265.3554 172.6443,-255.5904 163.3416,-260.6609 168.5341,-265.3554\" stroke=\"#000000\"/>\n</g>\n<!-- 140121522418744 -->\n<g class=\"node\" id=\"node11\">\n<title>140121522418744</title>\n<polygon fill=\"none\" points=\"32,-146.5 32,-182.5 214,-182.5 214,-146.5 32,-146.5\" stroke=\"#000000\"/>\n<text fill=\"#000000\" font-family=\"Times,serif\" font-size=\"14.00\" text-anchor=\"middle\" x=\"123\" y=\"-160.8\">concatenate_17: Concatenate</text>\n</g>\n<!-- 140121522387208&#45;&gt;140121522418744 -->\n<g class=\"edge\" id=\"edge10\">\n<title>140121522387208-&gt;140121522418744</title>\n<path d=\"M73.3146,-219.4551C81.3267,-210.5932 91.1196,-199.7616 99.8868,-190.0646\" fill=\"none\" stroke=\"#000000\"/>\n<polygon fill=\"#000000\" points=\"102.5341,-192.3554 106.6443,-182.5904 97.3416,-187.6609 102.5341,-192.3554\" stroke=\"#000000\"/>\n</g>\n<!-- 140121522387432&#45;&gt;140121522418744 -->\n<g class=\"edge\" id=\"edge11\">\n<title>140121522387432-&gt;140121522418744</title>\n<path d=\"M172.6854,-219.4551C164.6733,-210.5932 154.8804,-199.7616 146.1132,-190.0646\" fill=\"none\" stroke=\"#000000\"/>\n<polygon fill=\"#000000\" points=\"148.6584,-187.6609 139.3557,-182.5904 143.4659,-192.3554 148.6584,-187.6609\" stroke=\"#000000\"/>\n</g>\n<!-- 140121522387824 -->\n<g class=\"node\" id=\"node12\">\n<title>140121522387824</title>\n<polygon fill=\"none\" points=\"66,-73.5 66,-109.5 180,-109.5 180,-73.5 66,-73.5\" stroke=\"#000000\"/>\n<text fill=\"#000000\" font-family=\"Times,serif\" font-size=\"14.00\" text-anchor=\"middle\" x=\"123\" y=\"-87.8\">dense_35: Dense</text>\n</g>\n<!-- 140121522418744&#45;&gt;140121522387824 -->\n<g class=\"edge\" id=\"edge12\">\n<title>140121522418744-&gt;140121522387824</title>\n<path d=\"M123,-146.4551C123,-138.3828 123,-128.6764 123,-119.6817\" fill=\"none\" stroke=\"#000000\"/>\n<polygon fill=\"#000000\" points=\"126.5001,-119.5903 123,-109.5904 119.5001,-119.5904 126.5001,-119.5903\" stroke=\"#000000\"/>\n</g>\n<!-- 140121522388160 -->\n<g class=\"node\" id=\"node13\">\n<title>140121522388160</title>\n<polygon fill=\"none\" points=\"66,-.5 66,-36.5 180,-36.5 180,-.5 66,-.5\" stroke=\"#000000\"/>\n<text fill=\"#000000\" font-family=\"Times,serif\" font-size=\"14.00\" text-anchor=\"middle\" x=\"123\" y=\"-14.8\">dense_36: Dense</text>\n</g>\n<!-- 140121522387824&#45;&gt;140121522388160 -->\n<g class=\"edge\" id=\"edge13\">\n<title>140121522387824-&gt;140121522388160</title>\n<path d=\"M123,-73.4551C123,-65.3828 123,-55.6764 123,-46.6817\" fill=\"none\" stroke=\"#000000\"/>\n<polygon fill=\"#000000\" points=\"126.5001,-46.5903 123,-36.5904 119.5001,-46.5904 126.5001,-46.5903\" stroke=\"#000000\"/>\n</g>\n</g>\n</svg>"
          },
          "metadata": {
            "tags": []
          },
          "execution_count": 79
        }
      ]
    },
    {
      "cell_type": "code",
      "metadata": {
        "id": "6YgabjAqmZGr",
        "colab_type": "code",
        "colab": {
          "base_uri": "https://localhost:8080/",
          "height": 595
        },
        "outputId": "6b3ca8e1-9276-4624-ed9b-86bfb2d9aa9c"
      },
      "source": [
        "model.compile(loss = 'mse', optimizer=SGD(lr = 0.5), metrics=['accuracy'])\n",
        "model.summary()"
      ],
      "execution_count": 80,
      "outputs": [
        {
          "output_type": "stream",
          "text": [
            "__________________________________________________________________________________________________\n",
            "Layer (type)                    Output Shape         Param #     Connected to                     \n",
            "==================================================================================================\n",
            "input_5 (InputLayer)            (None, 28, 28, 1)    0                                            \n",
            "__________________________________________________________________________________________________\n",
            "conv2d_16 (Conv2D)              (None, 28, 28, 8)    208         input_5[0][0]                    \n",
            "__________________________________________________________________________________________________\n",
            "max_pooling2d_16 (MaxPooling2D) (None, 14, 14, 8)    0           conv2d_16[0][0]                  \n",
            "__________________________________________________________________________________________________\n",
            "conv2d_17 (Conv2D)              (None, 14, 14, 16)   3216        max_pooling2d_16[0][0]           \n",
            "__________________________________________________________________________________________________\n",
            "max_pooling2d_17 (MaxPooling2D) (None, 7, 7, 16)     0           conv2d_17[0][0]                  \n",
            "__________________________________________________________________________________________________\n",
            "conv2d_18 (Conv2D)              (None, 7, 7, 32)     12832       max_pooling2d_17[0][0]           \n",
            "__________________________________________________________________________________________________\n",
            "max_pooling2d_18 (MaxPooling2D) (None, 3, 3, 32)     0           conv2d_18[0][0]                  \n",
            "__________________________________________________________________________________________________\n",
            "flatten_8 (Flatten)             (None, 288)          0           max_pooling2d_18[0][0]           \n",
            "__________________________________________________________________________________________________\n",
            "dense_33 (Dense)                (None, 50)           14450       flatten_8[0][0]                  \n",
            "__________________________________________________________________________________________________\n",
            "dense_34 (Dense)                (None, 30)           8670        flatten_8[0][0]                  \n",
            "__________________________________________________________________________________________________\n",
            "concatenate_17 (Concatenate)    (None, 80)           0           dense_33[0][0]                   \n",
            "                                                                 dense_34[0][0]                   \n",
            "__________________________________________________________________________________________________\n",
            "dense_35 (Dense)                (None, 30)           2430        concatenate_17[0][0]             \n",
            "__________________________________________________________________________________________________\n",
            "dense_36 (Dense)                (None, 10)           310         dense_35[0][0]                   \n",
            "==================================================================================================\n",
            "Total params: 42,116\n",
            "Trainable params: 42,116\n",
            "Non-trainable params: 0\n",
            "__________________________________________________________________________________________________\n"
          ],
          "name": "stdout"
        }
      ]
    },
    {
      "cell_type": "code",
      "metadata": {
        "id": "FLYNCBZmmZLn",
        "colab_type": "code",
        "outputId": "bd460602-93fa-4d08-9459-8fa144d79a62",
        "colab": {
          "base_uri": "https://localhost:8080/",
          "height": 374
        }
      },
      "source": [
        "model.fit(x_train, y_train, batch_size=100, epochs=10)"
      ],
      "execution_count": 82,
      "outputs": [
        {
          "output_type": "stream",
          "text": [
            "Epoch 1/10\n",
            "60000/60000 [==============================] - 59s 978us/step - loss: 0.0898 - acc: 0.1197\n",
            "Epoch 2/10\n",
            "60000/60000 [==============================] - 59s 983us/step - loss: 0.0879 - acc: 0.2542\n",
            "Epoch 3/10\n",
            "60000/60000 [==============================] - 58s 970us/step - loss: 0.0394 - acc: 0.7365\n",
            "Epoch 4/10\n",
            "60000/60000 [==============================] - 58s 973us/step - loss: 0.0107 - acc: 0.9327\n",
            "Epoch 5/10\n",
            "60000/60000 [==============================] - 58s 973us/step - loss: 0.0070 - acc: 0.9561\n",
            "Epoch 6/10\n",
            "60000/60000 [==============================] - 58s 974us/step - loss: 0.0054 - acc: 0.9659\n",
            "Epoch 7/10\n",
            "60000/60000 [==============================] - 59s 982us/step - loss: 0.0046 - acc: 0.9709\n",
            "Epoch 8/10\n",
            "60000/60000 [==============================] - 58s 974us/step - loss: 0.0040 - acc: 0.9743\n",
            "Epoch 9/10\n",
            "60000/60000 [==============================] - 59s 981us/step - loss: 0.0035 - acc: 0.9782\n",
            "Epoch 10/10\n",
            "60000/60000 [==============================] - 59s 982us/step - loss: 0.0032 - acc: 0.9801\n"
          ],
          "name": "stdout"
        },
        {
          "output_type": "execute_result",
          "data": {
            "text/plain": [
              "<keras.callbacks.History at 0x7f70956b92b0>"
            ]
          },
          "metadata": {
            "tags": []
          },
          "execution_count": 82
        }
      ]
    },
    {
      "cell_type": "code",
      "metadata": {
        "id": "xl-ATiQnmZRB",
        "colab_type": "code",
        "colab": {
          "base_uri": "https://localhost:8080/",
          "height": 68
        },
        "outputId": "d9e4bfbb-a8b7-4970-a943-326f0c14e08c"
      },
      "source": [
        "score = model.evaluate(x_test,y_test)\n",
        "print('loss:', score[0])\n",
        "print('正確率:', score[1])"
      ],
      "execution_count": 83,
      "outputs": [
        {
          "output_type": "stream",
          "text": [
            "10000/10000 [==============================] - 5s 509us/step\n",
            "loss: 0.0034176741636787484\n",
            "正確率: 0.9782\n"
          ],
          "name": "stdout"
        }
      ]
    },
    {
      "cell_type": "markdown",
      "metadata": {
        "id": "N_HbPolRVH--",
        "colab_type": "text"
      },
      "source": [
        "# 正確率高達$97.82\\%$!!"
      ]
    },
    {
      "cell_type": "markdown",
      "metadata": {
        "id": "4AWl1fYkVVDT",
        "colab_type": "text"
      },
      "source": [
        "# 試著將loss function 選用categorical crossentropy\n"
      ]
    },
    {
      "cell_type": "code",
      "metadata": {
        "id": "gF4bOlvxVVg9",
        "colab_type": "code",
        "colab": {
          "base_uri": "https://localhost:8080/",
          "height": 595
        },
        "outputId": "cc0efe74-d162-4ad7-99fc-a81d89452b01"
      },
      "source": [
        "model.compile(loss = 'categorical_crossentropy', optimizer=SGD(lr = 0.5), metrics=['accuracy'])\n",
        "model.summary()"
      ],
      "execution_count": 84,
      "outputs": [
        {
          "output_type": "stream",
          "text": [
            "__________________________________________________________________________________________________\n",
            "Layer (type)                    Output Shape         Param #     Connected to                     \n",
            "==================================================================================================\n",
            "input_5 (InputLayer)            (None, 28, 28, 1)    0                                            \n",
            "__________________________________________________________________________________________________\n",
            "conv2d_16 (Conv2D)              (None, 28, 28, 8)    208         input_5[0][0]                    \n",
            "__________________________________________________________________________________________________\n",
            "max_pooling2d_16 (MaxPooling2D) (None, 14, 14, 8)    0           conv2d_16[0][0]                  \n",
            "__________________________________________________________________________________________________\n",
            "conv2d_17 (Conv2D)              (None, 14, 14, 16)   3216        max_pooling2d_16[0][0]           \n",
            "__________________________________________________________________________________________________\n",
            "max_pooling2d_17 (MaxPooling2D) (None, 7, 7, 16)     0           conv2d_17[0][0]                  \n",
            "__________________________________________________________________________________________________\n",
            "conv2d_18 (Conv2D)              (None, 7, 7, 32)     12832       max_pooling2d_17[0][0]           \n",
            "__________________________________________________________________________________________________\n",
            "max_pooling2d_18 (MaxPooling2D) (None, 3, 3, 32)     0           conv2d_18[0][0]                  \n",
            "__________________________________________________________________________________________________\n",
            "flatten_8 (Flatten)             (None, 288)          0           max_pooling2d_18[0][0]           \n",
            "__________________________________________________________________________________________________\n",
            "dense_33 (Dense)                (None, 50)           14450       flatten_8[0][0]                  \n",
            "__________________________________________________________________________________________________\n",
            "dense_34 (Dense)                (None, 30)           8670        flatten_8[0][0]                  \n",
            "__________________________________________________________________________________________________\n",
            "concatenate_17 (Concatenate)    (None, 80)           0           dense_33[0][0]                   \n",
            "                                                                 dense_34[0][0]                   \n",
            "__________________________________________________________________________________________________\n",
            "dense_35 (Dense)                (None, 30)           2430        concatenate_17[0][0]             \n",
            "__________________________________________________________________________________________________\n",
            "dense_36 (Dense)                (None, 10)           310         dense_35[0][0]                   \n",
            "==================================================================================================\n",
            "Total params: 42,116\n",
            "Trainable params: 42,116\n",
            "Non-trainable params: 0\n",
            "__________________________________________________________________________________________________\n"
          ],
          "name": "stdout"
        }
      ]
    },
    {
      "cell_type": "code",
      "metadata": {
        "id": "EoDbqaBdVrNT",
        "colab_type": "code",
        "colab": {
          "base_uri": "https://localhost:8080/",
          "height": 374
        },
        "outputId": "b613ca22-8a17-4e43-cf1d-57896a1d9e63"
      },
      "source": [
        "model.fit(x_train, y_train, batch_size=100, epochs=10)"
      ],
      "execution_count": 85,
      "outputs": [
        {
          "output_type": "stream",
          "text": [
            "Epoch 1/10\n",
            "60000/60000 [==============================] - 59s 988us/step - loss: 14.4671 - acc: 0.1022\n",
            "Epoch 2/10\n",
            "60000/60000 [==============================] - 59s 984us/step - loss: 14.5200 - acc: 0.0991\n",
            "Epoch 3/10\n",
            "60000/60000 [==============================] - 59s 982us/step - loss: 14.5200 - acc: 0.0991\n",
            "Epoch 4/10\n",
            "60000/60000 [==============================] - 59s 980us/step - loss: 14.5200 - acc: 0.0992\n",
            "Epoch 5/10\n",
            "60000/60000 [==============================] - 59s 988us/step - loss: 14.5200 - acc: 0.0991\n",
            "Epoch 6/10\n",
            "60000/60000 [==============================] - 59s 981us/step - loss: 14.5200 - acc: 0.0991\n",
            "Epoch 7/10\n",
            "60000/60000 [==============================] - 59s 984us/step - loss: 14.5200 - acc: 0.0992\n",
            "Epoch 8/10\n",
            "60000/60000 [==============================] - 58s 975us/step - loss: 14.5200 - acc: 0.0992\n",
            "Epoch 9/10\n",
            "60000/60000 [==============================] - 59s 982us/step - loss: 14.5200 - acc: 0.0991\n",
            "Epoch 10/10\n",
            "60000/60000 [==============================] - 59s 980us/step - loss: 14.5200 - acc: 0.0991\n"
          ],
          "name": "stdout"
        },
        {
          "output_type": "execute_result",
          "data": {
            "text/plain": [
              "<keras.callbacks.History at 0x7f7095584b70>"
            ]
          },
          "metadata": {
            "tags": []
          },
          "execution_count": 85
        }
      ]
    },
    {
      "cell_type": "code",
      "metadata": {
        "id": "S_y_7xt0VyUh",
        "colab_type": "code",
        "colab": {
          "base_uri": "https://localhost:8080/",
          "height": 68
        },
        "outputId": "97ee1f12-f2d8-4816-8e92-e54b609698ba"
      },
      "source": [
        "score = model.evaluate(x_test,y_test)\n",
        "print('loss:', score[0])\n",
        "print('正確率:', score[1])"
      ],
      "execution_count": 86,
      "outputs": [
        {
          "output_type": "stream",
          "text": [
            "10000/10000 [==============================] - 5s 545us/step\n",
            "loss: 14.491779391479492\n",
            "正確率: 0.1009\n"
          ],
          "name": "stdout"
        }
      ]
    },
    {
      "cell_type": "markdown",
      "metadata": {
        "id": "fphUrTQLXmdU",
        "colab_type": "text"
      },
      "source": [
        "# 結果不盡理想.....ＱＱ，竟然只有$10.09\\%$"
      ]
    },
    {
      "cell_type": "markdown",
      "metadata": {
        "id": "4zARqXdcXqsD",
        "colab_type": "text"
      },
      "source": [
        "# 改成binary crossentropy試試看"
      ]
    },
    {
      "cell_type": "code",
      "metadata": {
        "id": "kc5Z4OvTX39l",
        "colab_type": "code",
        "colab": {
          "base_uri": "https://localhost:8080/",
          "height": 595
        },
        "outputId": "488718ab-201a-4b8a-cf3d-441540b76a80"
      },
      "source": [
        "model.compile(loss = 'binary_crossentropy', optimizer=SGD(lr = 0.5), metrics=['accuracy'])\n",
        "model.summary()"
      ],
      "execution_count": 88,
      "outputs": [
        {
          "output_type": "stream",
          "text": [
            "__________________________________________________________________________________________________\n",
            "Layer (type)                    Output Shape         Param #     Connected to                     \n",
            "==================================================================================================\n",
            "input_5 (InputLayer)            (None, 28, 28, 1)    0                                            \n",
            "__________________________________________________________________________________________________\n",
            "conv2d_16 (Conv2D)              (None, 28, 28, 8)    208         input_5[0][0]                    \n",
            "__________________________________________________________________________________________________\n",
            "max_pooling2d_16 (MaxPooling2D) (None, 14, 14, 8)    0           conv2d_16[0][0]                  \n",
            "__________________________________________________________________________________________________\n",
            "conv2d_17 (Conv2D)              (None, 14, 14, 16)   3216        max_pooling2d_16[0][0]           \n",
            "__________________________________________________________________________________________________\n",
            "max_pooling2d_17 (MaxPooling2D) (None, 7, 7, 16)     0           conv2d_17[0][0]                  \n",
            "__________________________________________________________________________________________________\n",
            "conv2d_18 (Conv2D)              (None, 7, 7, 32)     12832       max_pooling2d_17[0][0]           \n",
            "__________________________________________________________________________________________________\n",
            "max_pooling2d_18 (MaxPooling2D) (None, 3, 3, 32)     0           conv2d_18[0][0]                  \n",
            "__________________________________________________________________________________________________\n",
            "flatten_8 (Flatten)             (None, 288)          0           max_pooling2d_18[0][0]           \n",
            "__________________________________________________________________________________________________\n",
            "dense_33 (Dense)                (None, 50)           14450       flatten_8[0][0]                  \n",
            "__________________________________________________________________________________________________\n",
            "dense_34 (Dense)                (None, 30)           8670        flatten_8[0][0]                  \n",
            "__________________________________________________________________________________________________\n",
            "concatenate_17 (Concatenate)    (None, 80)           0           dense_33[0][0]                   \n",
            "                                                                 dense_34[0][0]                   \n",
            "__________________________________________________________________________________________________\n",
            "dense_35 (Dense)                (None, 30)           2430        concatenate_17[0][0]             \n",
            "__________________________________________________________________________________________________\n",
            "dense_36 (Dense)                (None, 10)           310         dense_35[0][0]                   \n",
            "==================================================================================================\n",
            "Total params: 42,116\n",
            "Trainable params: 42,116\n",
            "Non-trainable params: 0\n",
            "__________________________________________________________________________________________________\n"
          ],
          "name": "stdout"
        }
      ]
    },
    {
      "cell_type": "code",
      "metadata": {
        "id": "UAyigGZPX4YP",
        "colab_type": "code",
        "colab": {
          "base_uri": "https://localhost:8080/",
          "height": 374
        },
        "outputId": "a69c6f77-1c20-4f82-c65e-ef177a3d1793"
      },
      "source": [
        "model.fit(x_train, y_train, batch_size=100, epochs=10)"
      ],
      "execution_count": 89,
      "outputs": [
        {
          "output_type": "stream",
          "text": [
            "Epoch 1/10\n",
            "60000/60000 [==============================] - 59s 989us/step - loss: 2.8882 - acc: 0.8198\n",
            "Epoch 2/10\n",
            "60000/60000 [==============================] - 59s 991us/step - loss: 2.8882 - acc: 0.8198\n",
            "Epoch 3/10\n",
            "60000/60000 [==============================] - 59s 991us/step - loss: 2.8882 - acc: 0.8198\n",
            "Epoch 4/10\n",
            "60000/60000 [==============================] - 59s 989us/step - loss: 2.8882 - acc: 0.8198\n",
            "Epoch 5/10\n",
            "60000/60000 [==============================] - 59s 991us/step - loss: 2.8882 - acc: 0.8198\n",
            "Epoch 6/10\n",
            "60000/60000 [==============================] - 59s 981us/step - loss: 2.8882 - acc: 0.8198\n",
            "Epoch 7/10\n",
            "60000/60000 [==============================] - 59s 981us/step - loss: 2.8882 - acc: 0.8198\n",
            "Epoch 8/10\n",
            "60000/60000 [==============================] - 59s 978us/step - loss: 2.8882 - acc: 0.8198\n",
            "Epoch 9/10\n",
            "60000/60000 [==============================] - 59s 978us/step - loss: 2.8882 - acc: 0.8198\n",
            "Epoch 10/10\n",
            "60000/60000 [==============================] - 59s 983us/step - loss: 2.8882 - acc: 0.8198\n"
          ],
          "name": "stdout"
        },
        {
          "output_type": "execute_result",
          "data": {
            "text/plain": [
              "<keras.callbacks.History at 0x7f70955b5940>"
            ]
          },
          "metadata": {
            "tags": []
          },
          "execution_count": 89
        }
      ]
    },
    {
      "cell_type": "code",
      "metadata": {
        "id": "M1ZUQf2GX8yf",
        "colab_type": "code",
        "colab": {
          "base_uri": "https://localhost:8080/",
          "height": 68
        },
        "outputId": "e6e95514-7076-4c64-d7e5-ea57e754f225"
      },
      "source": [
        "score = model.evaluate(x_test,y_test)\n",
        "print('loss:', score[0])\n",
        "print('正確率:', score[1])"
      ],
      "execution_count": 90,
      "outputs": [
        {
          "output_type": "stream",
          "text": [
            "10000/10000 [==============================] - 6s 555us/step\n",
            "loss: 2.88255743560791\n",
            "正確率: 0.8201800062179565\n"
          ],
          "name": "stdout"
        }
      ]
    },
    {
      "cell_type": "markdown",
      "metadata": {
        "id": "h5VA8-TLaDAp",
        "colab_type": "text"
      },
      "source": [
        "# loss function選mse的結果最好，但不知為何選binary crossentropy的training會如此詭異＠＠"
      ]
    }
  ]
}