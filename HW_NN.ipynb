{
  "nbformat": 4,
  "nbformat_minor": 0,
  "metadata": {
    "colab": {
      "name": "HW NN.ipynb",
      "version": "0.3.2",
      "provenance": [],
      "include_colab_link": true
    },
    "kernelspec": {
      "name": "python3",
      "display_name": "Python 3"
    }
  },
  "cells": [
    {
      "cell_type": "markdown",
      "metadata": {
        "id": "view-in-github",
        "colab_type": "text"
      },
      "source": [
        "<a href=\"https://colab.research.google.com/github/coldjoke123/python1/blob/master/HW_NN.ipynb\" target=\"_parent\"><img src=\"https://colab.research.google.com/assets/colab-badge.svg\" alt=\"Open In Colab\"/></a>"
      ]
    },
    {
      "metadata": {
        "id": "UlyZZHMih0S8",
        "colab_type": "code",
        "colab": {}
      },
      "cell_type": "code",
      "source": [
        "%matplotlib inline\n",
        "\n",
        "import numpy as np\n",
        "import matplotlib.pyplot as plt\n",
        "from keras.datasets import mnist\n",
        "from keras.utils import np_utils"
      ],
      "execution_count": 0,
      "outputs": []
    },
    {
      "metadata": {
        "id": "KNrzjjRtiVqP",
        "colab_type": "text"
      },
      "cell_type": "markdown",
      "source": [
        "## 載入資料並且重新調整資料的樣子"
      ]
    },
    {
      "metadata": {
        "id": "Emmkq2AZiFv5",
        "colab_type": "code",
        "colab": {}
      },
      "cell_type": "code",
      "source": [
        "(x_train, y_train), (x_test, y_test) = mnist.load_data()\n",
        "x_train = x_train.reshape(60000,784)\n",
        "x_test = x_test.reshape(10000,784)\n",
        "y_train = np_utils.to_categorical(y_train,10)\n",
        "y_test = np_utils.to_categorical(y_test,10)"
      ],
      "execution_count": 0,
      "outputs": []
    },
    {
      "metadata": {
        "id": "gZ-ZBD9sio0g",
        "colab_type": "text"
      },
      "cell_type": "markdown",
      "source": [
        "## 對資料做正規化，將資料調整至 $[0,1]$ 區間\n",
        "\n",
        "降低資料受到極值的影響"
      ]
    },
    {
      "metadata": {
        "id": "dL3itLxOirs1",
        "colab_type": "code",
        "colab": {}
      },
      "cell_type": "code",
      "source": [
        "x_train_reg = (x_train - x_train.min())/(x_train.max() - x_train.min())\n",
        "x_test_reg = (x_test - x_test.min())/(x_test.max() - x_test.min())"
      ],
      "execution_count": 0,
      "outputs": []
    },
    {
      "metadata": {
        "id": "W-dhtrzvjVOj",
        "colab_type": "text"
      },
      "cell_type": "markdown",
      "source": [
        "## 首先，我們增加神經元的個數至每層100個，其餘參數不變"
      ]
    },
    {
      "metadata": {
        "id": "ILKIp990iGCW",
        "colab_type": "code",
        "colab": {}
      },
      "cell_type": "code",
      "source": [
        "from keras.models import Sequential\n",
        "from keras.layers import Dense, Activation\n",
        "from keras.optimizers import SGD"
      ],
      "execution_count": 0,
      "outputs": []
    },
    {
      "metadata": {
        "id": "iNDYk7bXiGFX",
        "colab_type": "code",
        "outputId": "81da7de7-da9b-4f30-aefc-130c8eba88b3",
        "colab": {
          "base_uri": "https://localhost:8080/",
          "height": 340
        }
      },
      "cell_type": "code",
      "source": [
        "model_test1 = Sequential()\n",
        "model_test1.add(Dense(100, input_dim = 784))\n",
        "model_test1.add(Activation('sigmoid'))\n",
        "model_test1.add(Dense(100))\n",
        "model_test1.add(Activation('sigmoid'))\n",
        "model_test1.add(Dense(10))\n",
        "model_test1.add(Activation('softmax'))\n",
        "model_test1.compile(loss = 'mse', optimizer=SGD(lr = 0.087), metrics=['accuracy'])\n",
        "model_test1.summary()"
      ],
      "execution_count": 75,
      "outputs": [
        {
          "output_type": "stream",
          "text": [
            "_________________________________________________________________\n",
            "Layer (type)                 Output Shape              Param #   \n",
            "=================================================================\n",
            "dense_2533 (Dense)           (None, 100)               78500     \n",
            "_________________________________________________________________\n",
            "activation_2533 (Activation) (None, 100)               0         \n",
            "_________________________________________________________________\n",
            "dense_2534 (Dense)           (None, 100)               10100     \n",
            "_________________________________________________________________\n",
            "activation_2534 (Activation) (None, 100)               0         \n",
            "_________________________________________________________________\n",
            "dense_2535 (Dense)           (None, 10)                1010      \n",
            "_________________________________________________________________\n",
            "activation_2535 (Activation) (None, 10)                0         \n",
            "=================================================================\n",
            "Total params: 89,610\n",
            "Trainable params: 89,610\n",
            "Non-trainable params: 0\n",
            "_________________________________________________________________\n"
          ],
          "name": "stdout"
        }
      ]
    },
    {
      "metadata": {
        "id": "sFOf_V_wiGH_",
        "colab_type": "code",
        "outputId": "226ae074-1c18-44c7-8994-a261a78581c6",
        "colab": {
          "base_uri": "https://localhost:8080/",
          "height": 714
        }
      },
      "cell_type": "code",
      "source": [
        "model_test1_20 = model_test1.fit(x_train_reg, y_train, \n",
        "                         batch_size=100, \n",
        "                         epochs=20,\n",
        "                         verbose=1,\n",
        "                         validation_data=(x_test_reg, y_test))"
      ],
      "execution_count": 76,
      "outputs": [
        {
          "output_type": "stream",
          "text": [
            "Train on 60000 samples, validate on 10000 samples\n",
            "Epoch 1/20\n",
            "60000/60000 [==============================] - 29s 490us/step - loss: 0.0902 - acc: 0.1039 - val_loss: 0.0899 - val_acc: 0.1142\n",
            "Epoch 2/20\n",
            "60000/60000 [==============================] - 7s 116us/step - loss: 0.0898 - acc: 0.1131 - val_loss: 0.0897 - val_acc: 0.1137\n",
            "Epoch 3/20\n",
            "60000/60000 [==============================] - 7s 123us/step - loss: 0.0896 - acc: 0.1143 - val_loss: 0.0895 - val_acc: 0.1158\n",
            "Epoch 4/20\n",
            "60000/60000 [==============================] - 7s 121us/step - loss: 0.0894 - acc: 0.1239 - val_loss: 0.0893 - val_acc: 0.1416\n",
            "Epoch 5/20\n",
            "60000/60000 [==============================] - 7s 121us/step - loss: 0.0892 - acc: 0.1467 - val_loss: 0.0891 - val_acc: 0.1456\n",
            "Epoch 6/20\n",
            "60000/60000 [==============================] - 8s 126us/step - loss: 0.0890 - acc: 0.1691 - val_loss: 0.0888 - val_acc: 0.1756\n",
            "Epoch 7/20\n",
            "60000/60000 [==============================] - 7s 119us/step - loss: 0.0887 - acc: 0.1943 - val_loss: 0.0886 - val_acc: 0.2723\n",
            "Epoch 8/20\n",
            "60000/60000 [==============================] - 8s 128us/step - loss: 0.0884 - acc: 0.2507 - val_loss: 0.0883 - val_acc: 0.2283\n",
            "Epoch 9/20\n",
            "60000/60000 [==============================] - 8s 125us/step - loss: 0.0881 - acc: 0.2522 - val_loss: 0.0879 - val_acc: 0.2814\n",
            "Epoch 10/20\n",
            "60000/60000 [==============================] - 7s 119us/step - loss: 0.0878 - acc: 0.2793 - val_loss: 0.0875 - val_acc: 0.3082\n",
            "Epoch 11/20\n",
            "60000/60000 [==============================] - 7s 121us/step - loss: 0.0874 - acc: 0.2983 - val_loss: 0.0871 - val_acc: 0.3072\n",
            "Epoch 12/20\n",
            "60000/60000 [==============================] - 7s 123us/step - loss: 0.0869 - acc: 0.3034 - val_loss: 0.0865 - val_acc: 0.3245\n",
            "Epoch 13/20\n",
            "60000/60000 [==============================] - 8s 125us/step - loss: 0.0863 - acc: 0.3146 - val_loss: 0.0859 - val_acc: 0.3253\n",
            "Epoch 14/20\n",
            "60000/60000 [==============================] - 8s 131us/step - loss: 0.0855 - acc: 0.3194 - val_loss: 0.0850 - val_acc: 0.3271\n",
            "Epoch 15/20\n",
            "60000/60000 [==============================] - 8s 132us/step - loss: 0.0846 - acc: 0.3231 - val_loss: 0.0840 - val_acc: 0.3357\n",
            "Epoch 16/20\n",
            "60000/60000 [==============================] - 6s 98us/step - loss: 0.0835 - acc: 0.3301 - val_loss: 0.0826 - val_acc: 0.3420\n",
            "Epoch 17/20\n",
            "60000/60000 [==============================] - 7s 110us/step - loss: 0.0820 - acc: 0.3392 - val_loss: 0.0811 - val_acc: 0.3533\n",
            "Epoch 18/20\n",
            "60000/60000 [==============================] - 7s 124us/step - loss: 0.0803 - acc: 0.3553 - val_loss: 0.0792 - val_acc: 0.3569\n",
            "Epoch 19/20\n",
            "60000/60000 [==============================] - 7s 125us/step - loss: 0.0785 - acc: 0.3718 - val_loss: 0.0773 - val_acc: 0.3767\n",
            "Epoch 20/20\n",
            "60000/60000 [==============================] - 7s 116us/step - loss: 0.0765 - acc: 0.3990 - val_loss: 0.0753 - val_acc: 0.4022\n"
          ],
          "name": "stdout"
        }
      ]
    },
    {
      "metadata": {
        "id": "ld8CNENM0RD_",
        "colab_type": "code",
        "colab": {
          "base_uri": "https://localhost:8080/",
          "height": 68
        },
        "outputId": "01c69670-04f0-492f-cf2f-cd539705fc62"
      },
      "cell_type": "code",
      "source": [
        "score = model_test1.evaluate(x_test_reg, y_test)\n",
        "print('loss:', score[0])\n",
        "print('accuracy:', score[1])"
      ],
      "execution_count": 77,
      "outputs": [
        {
          "output_type": "stream",
          "text": [
            "10000/10000 [==============================] - 2s 236us/step\n",
            "loss: 0.07528994209766388\n",
            "accuracy: 0.4022\n"
          ],
          "name": "stdout"
        }
      ]
    },
    {
      "metadata": {
        "id": "rrNPgtVMzym_",
        "colab_type": "text"
      },
      "cell_type": "markdown",
      "source": [
        "## 相較於老師上課的模型，可以發現增加神經元數是能增加準確率的！\n",
        "\n",
        "## 於是，在Hidden layer有兩層activation function是sigmoid，loss function是mse，optimizer是SGD的條件下，測試神經元的個數以50個為單位從100到800來尋找準確率最高的組合。"
      ]
    },
    {
      "metadata": {
        "id": "eGgb4J8Y0C35",
        "colab_type": "code",
        "colab": {}
      },
      "cell_type": "code",
      "source": [
        "def seek_opt(n):\n",
        "    seek_accu = np.zeros((2*(n-1),n-1))\n",
        "    for i in range(1,n):\n",
        "        for j in range(1,n):\n",
        "            model = Sequential()\n",
        "            model.add(Dense(50*(i+1), input_dim = 784))\n",
        "            model.add(Activation('sigmoid'))\n",
        "            model.add(Dense(50*(j+1)))\n",
        "            model.add(Activation('sigmoid'))\n",
        "            model.add(Dense(10))\n",
        "            model.add(Activation('softmax'))\n",
        "            model.compile(loss = 'mse', optimizer=SGD(lr = 0.087), metrics=['accuracy'])\n",
        "            score = model.evaluate(x_test_reg, y_test)\n",
        "            seek_accu[i-1,j-1] = score[1]\n",
        "            seek_accu[i-1+(n-1),j-1] = score[0]\n",
        "    return seek_accu"
      ],
      "execution_count": 0,
      "outputs": []
    },
    {
      "metadata": {
        "id": "7Ka8SYth0C9P",
        "colab_type": "code",
        "outputId": "f07ed962-d295-4623-f908-06ff0eecbff6",
        "colab": {
          "base_uri": "https://localhost:8080/",
          "height": 867
        }
      },
      "cell_type": "code",
      "source": [
        "accu = seek_opt(16)[:16,:]\n",
        "loss = seek_opt(16)[16:,:]"
      ],
      "execution_count": 0,
      "outputs": [
        {
          "output_type": "stream",
          "text": [
            "10000/10000 [==============================] - 26s 3ms/step\n",
            "10000/10000 [==============================] - 24s 2ms/step\n",
            "10000/10000 [==============================] - 25s 2ms/step\n",
            "10000/10000 [==============================] - 24s 2ms/step\n",
            "10000/10000 [==============================] - 25s 2ms/step\n",
            "10000/10000 [==============================] - 24s 2ms/step\n",
            "10000/10000 [==============================] - 26s 3ms/step\n",
            "10000/10000 [==============================] - 24s 2ms/step\n",
            "10000/10000 [==============================] - 26s 3ms/step\n",
            "10000/10000 [==============================] - 25s 2ms/step\n",
            "10000/10000 [==============================] - 25s 2ms/step\n",
            "10000/10000 [==============================] - 26s 3ms/step\n",
            "10000/10000 [==============================] - 26s 3ms/step\n",
            "10000/10000 [==============================] - 25s 2ms/step\n",
            "10000/10000 [==============================] - 26s 3ms/step\n",
            "10000/10000 [==============================] - 26s 3ms/step\n",
            "10000/10000 [==============================] - 26s 3ms/step\n",
            "10000/10000 [==============================] - 26s 3ms/step\n",
            "10000/10000 [==============================] - 25s 2ms/step\n",
            "10000/10000 [==============================] - 25s 2ms/step\n",
            "10000/10000 [==============================] - 25s 3ms/step\n",
            "10000/10000 [==============================] - 25s 2ms/step\n",
            "10000/10000 [==============================] - 26s 3ms/step\n",
            "10000/10000 [==============================] - 26s 3ms/step\n",
            "10000/10000 [==============================] - 27s 3ms/step\n",
            "10000/10000 [==============================] - 26s 3ms/step\n",
            "10000/10000 [==============================] - 26s 3ms/step\n",
            "10000/10000 [==============================] - 25s 3ms/step\n",
            "10000/10000 [==============================] - 25s 3ms/step\n",
            "10000/10000 [==============================] - 26s 3ms/step\n",
            "10000/10000 [==============================] - 26s 3ms/step\n",
            "10000/10000 [==============================] - 26s 3ms/step\n",
            "10000/10000 [==============================] - 26s 3ms/step\n",
            "10000/10000 [==============================] - 26s 3ms/step\n",
            "10000/10000 [==============================] - 25s 3ms/step\n",
            "10000/10000 [==============================] - 26s 3ms/step\n",
            "10000/10000 [==============================] - 26s 3ms/step\n",
            "10000/10000 [==============================] - 26s 3ms/step\n",
            "10000/10000 [==============================] - 26s 3ms/step\n",
            "10000/10000 [==============================] - 26s 3ms/step\n",
            "10000/10000 [==============================] - 26s 3ms/step\n",
            "10000/10000 [==============================] - 26s 3ms/step\n",
            "10000/10000 [==============================] - 26s 3ms/step\n",
            "10000/10000 [==============================] - 26s 3ms/step\n",
            "10000/10000 [==============================] - 26s 3ms/step\n",
            "10000/10000 [==============================] - 26s 3ms/step\n",
            "10000/10000 [==============================] - 26s 3ms/step\n",
            "10000/10000 [==============================] - 26s 3ms/step\n",
            "10000/10000 [==============================] - 26s 3ms/step\n",
            "10000/10000 [==============================] - 26s 3ms/step\n"
          ],
          "name": "stdout"
        }
      ]
    },
    {
      "metadata": {
        "id": "pW8VJKoY0DUg",
        "colab_type": "code",
        "colab": {}
      },
      "cell_type": "code",
      "source": [
        "opt_acc_value = accu.max()\n",
        "opt_acc_index = accu.argmax()"
      ],
      "execution_count": 0,
      "outputs": []
    },
    {
      "metadata": {
        "id": "hKYfYQIC0DXF",
        "colab_type": "code",
        "colab": {}
      },
      "cell_type": "code",
      "source": [
        ""
      ],
      "execution_count": 0,
      "outputs": []
    }
  ]
}