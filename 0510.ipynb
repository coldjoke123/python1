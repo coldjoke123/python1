{
  "nbformat": 4,
  "nbformat_minor": 0,
  "metadata": {
    "colab": {
      "name": "0510.ipynb",
      "version": "0.3.2",
      "provenance": [],
      "collapsed_sections": [],
      "include_colab_link": true
    },
    "kernelspec": {
      "name": "python3",
      "display_name": "Python 3"
    }
  },
  "cells": [
    {
      "cell_type": "markdown",
      "metadata": {
        "id": "view-in-github",
        "colab_type": "text"
      },
      "source": [
        "<a href=\"https://colab.research.google.com/github/coldjoke123/python1/blob/master/0510.ipynb\" target=\"_parent\"><img src=\"https://colab.research.google.com/assets/colab-badge.svg\" alt=\"Open In Colab\"/></a>"
      ]
    },
    {
      "cell_type": "code",
      "metadata": {
        "id": "-YCrNJieGpPf",
        "colab_type": "code",
        "outputId": "9dadb6d8-8961-45ab-a449-dcdd35fce9b8",
        "colab": {
          "base_uri": "https://localhost:8080/",
          "height": 34
        }
      },
      "source": [
        "%env KERAS_BACKEND = tensorflow"
      ],
      "execution_count": 1,
      "outputs": [
        {
          "output_type": "stream",
          "text": [
            "env: KERAS_BACKEND=tensorflow\n"
          ],
          "name": "stdout"
        }
      ]
    },
    {
      "cell_type": "code",
      "metadata": {
        "id": "S7_m1s20Mulx",
        "colab_type": "code",
        "colab": {
          "base_uri": "https://localhost:8080/",
          "height": 297
        },
        "outputId": "2a4d17be-dc6b-4bc6-ac9d-9399965664d6"
      },
      "source": [
        "!pip install numpy==1.16.2\n",
        "import numpy as np"
      ],
      "execution_count": 6,
      "outputs": [
        {
          "output_type": "stream",
          "text": [
            "Collecting numpy==1.16.2\n",
            "\u001b[?25l  Downloading https://files.pythonhosted.org/packages/35/d5/4f8410ac303e690144f0a0603c4b8fd3b986feb2749c435f7cdbb288f17e/numpy-1.16.2-cp36-cp36m-manylinux1_x86_64.whl (17.3MB)\n",
            "\u001b[K     |████████████████████████████████| 17.3MB 4.8MB/s \n",
            "\u001b[31mERROR: datascience 0.10.6 has requirement folium==0.2.1, but you'll have folium 0.8.3 which is incompatible.\u001b[0m\n",
            "\u001b[31mERROR: albumentations 0.1.12 has requirement imgaug<0.2.7,>=0.2.5, but you'll have imgaug 0.2.9 which is incompatible.\u001b[0m\n",
            "\u001b[?25hInstalling collected packages: numpy\n",
            "  Found existing installation: numpy 1.16.3\n",
            "    Uninstalling numpy-1.16.3:\n",
            "      Successfully uninstalled numpy-1.16.3\n",
            "Successfully installed numpy-1.16.2\n"
          ],
          "name": "stdout"
        },
        {
          "output_type": "display_data",
          "data": {
            "application/vnd.colab-display-data+json": {
              "pip_warning": {
                "packages": [
                  "numpy"
                ]
              }
            }
          },
          "metadata": {
            "tags": []
          }
        }
      ]
    },
    {
      "cell_type": "code",
      "metadata": {
        "id": "qfoRroBi2fa4",
        "colab_type": "code",
        "outputId": "c87fd745-018d-454e-d4c0-17709c898f50",
        "colab": {
          "base_uri": "https://localhost:8080/",
          "height": 34
        }
      },
      "source": [
        "%matplotlib inline\n",
        "\n",
        "import matplotlib.pyplot as plt\n",
        "from keras.datasets import imdb\n",
        "from keras.preprocessing import sequence\n",
        "from keras.models import Sequential\n",
        "from keras.layers import Dense, Embedding\n",
        "from keras.layers import LSTM"
      ],
      "execution_count": 2,
      "outputs": [
        {
          "output_type": "stream",
          "text": [
            "Using TensorFlow backend.\n"
          ],
          "name": "stderr"
        }
      ]
    },
    {
      "cell_type": "markdown",
      "metadata": {
        "id": "Olrtc8phur4T",
        "colab_type": "text"
      },
      "source": [
        "# 讀取imdb的資料"
      ]
    },
    {
      "cell_type": "code",
      "metadata": {
        "id": "gG4XMUcu2ff7",
        "colab_type": "code",
        "colab": {}
      },
      "source": [
        "(x_train, y_train), (x_test,y_test) = imdb.load_data(num_words=10000)"
      ],
      "execution_count": 0,
      "outputs": []
    },
    {
      "cell_type": "code",
      "metadata": {
        "id": "glRm4W2D2fiS",
        "colab_type": "code",
        "outputId": "5915b2cb-36ea-40e8-f034-1a59265b83c7",
        "colab": {
          "base_uri": "https://localhost:8080/",
          "height": 51
        }
      },
      "source": [
        "print('訓練總筆數:',len(x_train))\n",
        "print('測試總筆數:',len(x_test))"
      ],
      "execution_count": 5,
      "outputs": [
        {
          "output_type": "stream",
          "text": [
            "訓練總筆數: 25000\n",
            "測試總筆數: 25000\n"
          ],
          "name": "stdout"
        }
      ]
    },
    {
      "cell_type": "code",
      "metadata": {
        "id": "GTsN7_Gr4tG1",
        "colab_type": "code",
        "colab": {}
      },
      "source": [
        "x_train = sequence.pad_sequences(x_train, maxlen=150)\n",
        "x_test = sequence.pad_sequences(x_test, maxlen=150)"
      ],
      "execution_count": 0,
      "outputs": []
    },
    {
      "cell_type": "markdown",
      "metadata": {
        "id": "iK4kdHbtrx68",
        "colab_type": "text"
      },
      "source": [
        "# 先建立上課時的模型"
      ]
    },
    {
      "cell_type": "code",
      "metadata": {
        "id": "ZfbKwMe-4tLt",
        "colab_type": "code",
        "colab": {}
      },
      "source": [
        "N=3 #文字要壓到N維\n",
        "K=4 #LSTM有K個神經元"
      ],
      "execution_count": 0,
      "outputs": []
    },
    {
      "cell_type": "code",
      "metadata": {
        "id": "zFENL6Yu4tQi",
        "colab_type": "code",
        "outputId": "7c495436-5890-4f19-eb8f-5ddf15e86cd5",
        "colab": {
          "base_uri": "https://localhost:8080/",
          "height": 88
        }
      },
      "source": [
        "model = Sequential()\n",
        "model.add(Embedding(10000,N))\n",
        "model.add(LSTM(K))\n",
        "model.add(Dense(1,activation='sigmoid'))"
      ],
      "execution_count": 8,
      "outputs": [
        {
          "output_type": "stream",
          "text": [
            "WARNING:tensorflow:From /usr/local/lib/python3.6/dist-packages/tensorflow/python/framework/op_def_library.py:263: colocate_with (from tensorflow.python.framework.ops) is deprecated and will be removed in a future version.\n",
            "Instructions for updating:\n",
            "Colocations handled automatically by placer.\n"
          ],
          "name": "stdout"
        }
      ]
    },
    {
      "cell_type": "code",
      "metadata": {
        "id": "AB9MwmOE4tS9",
        "colab_type": "code",
        "colab": {}
      },
      "source": [
        "model.compile(loss='binary_crossentropy',optimizer='adam',metrics=['accuracy'])"
      ],
      "execution_count": 0,
      "outputs": []
    },
    {
      "cell_type": "code",
      "metadata": {
        "id": "fDRCfGRr98L2",
        "colab_type": "code",
        "outputId": "9d11318d-1b6f-4cfa-b2a0-741afa9c9841",
        "colab": {
          "base_uri": "https://localhost:8080/",
          "height": 238
        }
      },
      "source": [
        "model.summary()"
      ],
      "execution_count": 10,
      "outputs": [
        {
          "output_type": "stream",
          "text": [
            "_________________________________________________________________\n",
            "Layer (type)                 Output Shape              Param #   \n",
            "=================================================================\n",
            "embedding_1 (Embedding)      (None, None, 3)           30000     \n",
            "_________________________________________________________________\n",
            "lstm_1 (LSTM)                (None, 4)                 128       \n",
            "_________________________________________________________________\n",
            "dense_1 (Dense)              (None, 1)                 5         \n",
            "=================================================================\n",
            "Total params: 30,133\n",
            "Trainable params: 30,133\n",
            "Non-trainable params: 0\n",
            "_________________________________________________________________\n"
          ],
          "name": "stdout"
        }
      ]
    },
    {
      "cell_type": "code",
      "metadata": {
        "id": "4QTnytZR98OX",
        "colab_type": "code",
        "outputId": "3a7f0f36-dc37-41a6-f1a6-6d2bb81aa176",
        "colab": {
          "base_uri": "https://localhost:8080/",
          "height": 275
        }
      },
      "source": [
        "model.fit(x_train,y_train,batch_size=32,epochs=5)"
      ],
      "execution_count": 11,
      "outputs": [
        {
          "output_type": "stream",
          "text": [
            "WARNING:tensorflow:From /usr/local/lib/python3.6/dist-packages/tensorflow/python/ops/math_ops.py:3066: to_int32 (from tensorflow.python.ops.math_ops) is deprecated and will be removed in a future version.\n",
            "Instructions for updating:\n",
            "Use tf.cast instead.\n",
            "Epoch 1/5\n",
            "25000/25000 [==============================] - 50s 2ms/step - loss: 0.5041 - acc: 0.7559\n",
            "Epoch 2/5\n",
            "25000/25000 [==============================] - 49s 2ms/step - loss: 0.2976 - acc: 0.8867\n",
            "Epoch 3/5\n",
            "25000/25000 [==============================] - 49s 2ms/step - loss: 0.2307 - acc: 0.9178\n",
            "Epoch 4/5\n",
            "25000/25000 [==============================] - 48s 2ms/step - loss: 0.1917 - acc: 0.9335\n",
            "Epoch 5/5\n",
            "25000/25000 [==============================] - 48s 2ms/step - loss: 0.1647 - acc: 0.9470\n"
          ],
          "name": "stdout"
        },
        {
          "output_type": "execute_result",
          "data": {
            "text/plain": [
              "<keras.callbacks.History at 0x7f31816d0320>"
            ]
          },
          "metadata": {
            "tags": []
          },
          "execution_count": 11
        }
      ]
    },
    {
      "cell_type": "code",
      "metadata": {
        "id": "FtBCgZtFtMvT",
        "colab_type": "code",
        "outputId": "773108ef-3ccb-45ee-a5a4-dc3215224cfd",
        "colab": {
          "base_uri": "https://localhost:8080/",
          "height": 51
        }
      },
      "source": [
        "scores = model.evaluate(x_test, y_test)\n",
        "print(\"Accuracy:\", scores[1])"
      ],
      "execution_count": 12,
      "outputs": [
        {
          "output_type": "stream",
          "text": [
            "25000/25000 [==============================] - 7s 276us/step\n",
            "Accuracy: 0.84596\n"
          ],
          "name": "stdout"
        }
      ]
    },
    {
      "cell_type": "markdown",
      "metadata": {
        "id": "Gr7knfItsF_a",
        "colab_type": "text"
      },
      "source": [
        "# 上課所訓練的模型的準確性已經達到$84.596\\%$!"
      ]
    },
    {
      "cell_type": "markdown",
      "metadata": {
        "id": "Pz6uGuDeuxej",
        "colab_type": "text"
      },
      "source": [
        "# 要設計新的模型，首先我們更改N與K，其餘保持不變試試看"
      ]
    },
    {
      "cell_type": "code",
      "metadata": {
        "id": "8GvAeT5e98So",
        "colab_type": "code",
        "colab": {}
      },
      "source": [
        "N=6 #文字要壓到N維\n",
        "K=10 #LSTM有K個神經元"
      ],
      "execution_count": 0,
      "outputs": []
    },
    {
      "cell_type": "code",
      "metadata": {
        "id": "H6m0jkPC98X3",
        "colab_type": "code",
        "colab": {}
      },
      "source": [
        "model2 = Sequential()\n",
        "model2.add(Embedding(10000,N))\n",
        "model2.add(LSTM(K))\n",
        "model2.add(Dense(1,activation='sigmoid'))"
      ],
      "execution_count": 0,
      "outputs": []
    },
    {
      "cell_type": "code",
      "metadata": {
        "id": "xaXr2lnMv5C7",
        "colab_type": "code",
        "colab": {}
      },
      "source": [
        "model2.compile(loss='binary_crossentropy',optimizer='adam',metrics=['accuracy'])"
      ],
      "execution_count": 0,
      "outputs": []
    },
    {
      "cell_type": "code",
      "metadata": {
        "id": "QlOjijvPv5AM",
        "colab_type": "code",
        "outputId": "6abd0519-2e12-4e92-8ab1-7cbbcdaf326b",
        "colab": {
          "base_uri": "https://localhost:8080/",
          "height": 238
        }
      },
      "source": [
        "model2.summary()"
      ],
      "execution_count": 16,
      "outputs": [
        {
          "output_type": "stream",
          "text": [
            "_________________________________________________________________\n",
            "Layer (type)                 Output Shape              Param #   \n",
            "=================================================================\n",
            "embedding_2 (Embedding)      (None, None, 6)           60000     \n",
            "_________________________________________________________________\n",
            "lstm_2 (LSTM)                (None, 10)                680       \n",
            "_________________________________________________________________\n",
            "dense_2 (Dense)              (None, 1)                 11        \n",
            "=================================================================\n",
            "Total params: 60,691\n",
            "Trainable params: 60,691\n",
            "Non-trainable params: 0\n",
            "_________________________________________________________________\n"
          ],
          "name": "stdout"
        }
      ]
    },
    {
      "cell_type": "markdown",
      "metadata": {
        "id": "lnYgw2v0v_7L",
        "colab_type": "text"
      },
      "source": [
        "## epochs也維持5次"
      ]
    },
    {
      "cell_type": "code",
      "metadata": {
        "id": "-qY31_0Dv49f",
        "colab_type": "code",
        "outputId": "9196dace-be1f-423e-aa00-a0f42b83caaa",
        "colab": {
          "base_uri": "https://localhost:8080/",
          "height": 204
        }
      },
      "source": [
        "model2.fit(x_train,y_train,batch_size=32,epochs=5)"
      ],
      "execution_count": 17,
      "outputs": [
        {
          "output_type": "stream",
          "text": [
            "Epoch 1/5\n",
            "25000/25000 [==============================] - 50s 2ms/step - loss: 0.4632 - acc: 0.7693\n",
            "Epoch 2/5\n",
            "25000/25000 [==============================] - 52s 2ms/step - loss: 0.2632 - acc: 0.8951\n",
            "Epoch 3/5\n",
            "25000/25000 [==============================] - 54s 2ms/step - loss: 0.2069 - acc: 0.9248\n",
            "Epoch 4/5\n",
            "25000/25000 [==============================] - 54s 2ms/step - loss: 0.1776 - acc: 0.9379\n",
            "Epoch 5/5\n",
            "25000/25000 [==============================] - 54s 2ms/step - loss: 0.1491 - acc: 0.9490\n"
          ],
          "name": "stdout"
        },
        {
          "output_type": "execute_result",
          "data": {
            "text/plain": [
              "<keras.callbacks.History at 0x7f318149d4a8>"
            ]
          },
          "metadata": {
            "tags": []
          },
          "execution_count": 17
        }
      ]
    },
    {
      "cell_type": "code",
      "metadata": {
        "id": "7fAVAQ8jv46z",
        "colab_type": "code",
        "outputId": "01c61308-5a60-4e52-cba4-8dcde6ef3464",
        "colab": {
          "base_uri": "https://localhost:8080/",
          "height": 51
        }
      },
      "source": [
        "scores2 = model2.evaluate(x_test, y_test)\n",
        "print(\"Accuracy:\", scores2[1])"
      ],
      "execution_count": 18,
      "outputs": [
        {
          "output_type": "stream",
          "text": [
            "25000/25000 [==============================] - 8s 302us/step\n",
            "Accuracy: 0.8528\n"
          ],
          "name": "stdout"
        }
      ]
    },
    {
      "cell_type": "markdown",
      "metadata": {
        "id": "aD8C1Ms0zQ7z",
        "colab_type": "text"
      },
      "source": [
        "# 準確率小幅上升至$85.28\\%$"
      ]
    },
    {
      "cell_type": "code",
      "metadata": {
        "id": "_Eb3lpPrv44M",
        "colab_type": "code",
        "colab": {}
      },
      "source": [
        "N=10 #文字要壓到N維\n",
        "K=20 #LSTM有K個神經元"
      ],
      "execution_count": 0,
      "outputs": []
    },
    {
      "cell_type": "code",
      "metadata": {
        "id": "-B8_qC2Gzpyx",
        "colab_type": "code",
        "colab": {}
      },
      "source": [
        "model3 = Sequential()\n",
        "model3.add(Embedding(10000,N))\n",
        "model3.add(LSTM(K))\n",
        "model3.add(Dense(1,activation='sigmoid'))"
      ],
      "execution_count": 0,
      "outputs": []
    },
    {
      "cell_type": "code",
      "metadata": {
        "id": "wpN5qrFGzpwO",
        "colab_type": "code",
        "colab": {}
      },
      "source": [
        "model3.compile(loss='binary_crossentropy',optimizer='adam',metrics=['accuracy'])"
      ],
      "execution_count": 0,
      "outputs": []
    },
    {
      "cell_type": "code",
      "metadata": {
        "id": "bOFMfpX3zptr",
        "colab_type": "code",
        "outputId": "f5d71bb7-9046-494a-d209-2a9cbd1a8c56",
        "colab": {
          "base_uri": "https://localhost:8080/",
          "height": 238
        }
      },
      "source": [
        "model3.summary()"
      ],
      "execution_count": 22,
      "outputs": [
        {
          "output_type": "stream",
          "text": [
            "_________________________________________________________________\n",
            "Layer (type)                 Output Shape              Param #   \n",
            "=================================================================\n",
            "embedding_3 (Embedding)      (None, None, 10)          100000    \n",
            "_________________________________________________________________\n",
            "lstm_3 (LSTM)                (None, 20)                2480      \n",
            "_________________________________________________________________\n",
            "dense_3 (Dense)              (None, 1)                 21        \n",
            "=================================================================\n",
            "Total params: 102,501\n",
            "Trainable params: 102,501\n",
            "Non-trainable params: 0\n",
            "_________________________________________________________________\n"
          ],
          "name": "stdout"
        }
      ]
    },
    {
      "cell_type": "code",
      "metadata": {
        "id": "7XJXRDSHzprM",
        "colab_type": "code",
        "outputId": "bc9c4cff-788e-4529-ad2b-45b17b58deed",
        "colab": {
          "base_uri": "https://localhost:8080/",
          "height": 204
        }
      },
      "source": [
        "model3.fit(x_train,y_train,batch_size=32,epochs=5)"
      ],
      "execution_count": 23,
      "outputs": [
        {
          "output_type": "stream",
          "text": [
            "Epoch 1/5\n",
            "25000/25000 [==============================] - 60s 2ms/step - loss: 0.4187 - acc: 0.7980\n",
            "Epoch 2/5\n",
            "25000/25000 [==============================] - 59s 2ms/step - loss: 0.2505 - acc: 0.9042\n",
            "Epoch 3/5\n",
            "25000/25000 [==============================] - 55s 2ms/step - loss: 0.1987 - acc: 0.9280\n",
            "Epoch 4/5\n",
            "25000/25000 [==============================] - 55s 2ms/step - loss: 0.1638 - acc: 0.9416\n",
            "Epoch 5/5\n",
            "25000/25000 [==============================] - 51s 2ms/step - loss: 0.1336 - acc: 0.9540\n"
          ],
          "name": "stdout"
        },
        {
          "output_type": "execute_result",
          "data": {
            "text/plain": [
              "<keras.callbacks.History at 0x7f317b602400>"
            ]
          },
          "metadata": {
            "tags": []
          },
          "execution_count": 23
        }
      ]
    },
    {
      "cell_type": "code",
      "metadata": {
        "id": "09Gsj6cZzpon",
        "colab_type": "code",
        "outputId": "5796435d-56c4-48c6-8a2a-ebc618d3c103",
        "colab": {
          "base_uri": "https://localhost:8080/",
          "height": 51
        }
      },
      "source": [
        "scores3 = model3.evaluate(x_test, y_test)\n",
        "print(\"Accuracy:\", scores3[1])"
      ],
      "execution_count": 24,
      "outputs": [
        {
          "output_type": "stream",
          "text": [
            "25000/25000 [==============================] - 8s 314us/step\n",
            "Accuracy: 0.85096\n"
          ],
          "name": "stdout"
        }
      ]
    },
    {
      "cell_type": "markdown",
      "metadata": {
        "id": "Gc88MJvW1hNp",
        "colab_type": "text"
      },
      "source": [
        "# 準確率下降到$85.096\\%$惹ＱＱＱＱ"
      ]
    },
    {
      "cell_type": "markdown",
      "metadata": {
        "id": "WzvIP8ro19Ex",
        "colab_type": "text"
      },
      "source": [
        "# 將剛剛的model2的epochs增加到10"
      ]
    },
    {
      "cell_type": "code",
      "metadata": {
        "id": "iCB-U348zpl8",
        "colab_type": "code",
        "outputId": "58b915b4-66f9-4ac6-da9d-3a39eeded5b0",
        "colab": {
          "base_uri": "https://localhost:8080/",
          "height": 374
        }
      },
      "source": [
        "model2.fit(x_train,y_train,batch_size=32,epochs=10)"
      ],
      "execution_count": 25,
      "outputs": [
        {
          "output_type": "stream",
          "text": [
            "Epoch 1/10\n",
            "25000/25000 [==============================] - 50s 2ms/step - loss: 0.1317 - acc: 0.9559\n",
            "Epoch 2/10\n",
            "25000/25000 [==============================] - 52s 2ms/step - loss: 0.1121 - acc: 0.9637\n",
            "Epoch 3/10\n",
            "25000/25000 [==============================] - 53s 2ms/step - loss: 0.1018 - acc: 0.9684\n",
            "Epoch 4/10\n",
            "25000/25000 [==============================] - 53s 2ms/step - loss: 0.0821 - acc: 0.9758\n",
            "Epoch 5/10\n",
            "25000/25000 [==============================] - 57s 2ms/step - loss: 0.0789 - acc: 0.9755\n",
            "Epoch 6/10\n",
            "25000/25000 [==============================] - 56s 2ms/step - loss: 0.0663 - acc: 0.9812\n",
            "Epoch 7/10\n",
            "25000/25000 [==============================] - 55s 2ms/step - loss: 0.0605 - acc: 0.9827\n",
            "Epoch 8/10\n",
            "25000/25000 [==============================] - 55s 2ms/step - loss: 0.0589 - acc: 0.9822\n",
            "Epoch 9/10\n",
            "25000/25000 [==============================] - 54s 2ms/step - loss: 0.0561 - acc: 0.9832\n",
            "Epoch 10/10\n",
            "25000/25000 [==============================] - 52s 2ms/step - loss: 0.0497 - acc: 0.9857\n"
          ],
          "name": "stdout"
        },
        {
          "output_type": "execute_result",
          "data": {
            "text/plain": [
              "<keras.callbacks.History at 0x7f317b602eb8>"
            ]
          },
          "metadata": {
            "tags": []
          },
          "execution_count": 25
        }
      ]
    },
    {
      "cell_type": "code",
      "metadata": {
        "id": "rHEIuw2N2M6Z",
        "colab_type": "code",
        "outputId": "4367c6f3-bcfd-41e0-9ce2-b6b7a04fc75d",
        "colab": {
          "base_uri": "https://localhost:8080/",
          "height": 51
        }
      },
      "source": [
        "scores2 = model2.evaluate(x_test, y_test)\n",
        "print(\"Accuracy:\", scores2[1])"
      ],
      "execution_count": 26,
      "outputs": [
        {
          "output_type": "stream",
          "text": [
            "25000/25000 [==============================] - 7s 290us/step\n",
            "Accuracy: 0.83756\n"
          ],
          "name": "stdout"
        }
      ]
    },
    {
      "cell_type": "markdown",
      "metadata": {
        "id": "gcLkFQPl2IMG",
        "colab_type": "text"
      },
      "source": [
        "# 準確率下降到$83.756\\%$，可見增加epochs不一定會增加準確率！"
      ]
    },
    {
      "cell_type": "markdown",
      "metadata": {
        "id": "NASSxXF79hr6",
        "colab_type": "text"
      },
      "source": [
        "# 增加N與K且加入dropout來測試"
      ]
    },
    {
      "cell_type": "code",
      "metadata": {
        "id": "8BywtRlj2M3c",
        "colab_type": "code",
        "colab": {}
      },
      "source": [
        "from keras.layers import Dropout\n",
        "from keras.callbacks import EarlyStopping"
      ],
      "execution_count": 0,
      "outputs": []
    },
    {
      "cell_type": "code",
      "metadata": {
        "id": "VcQokONm2M1B",
        "colab_type": "code",
        "colab": {}
      },
      "source": [
        "N=200 #文字要壓到N維\n",
        "K=40 #LSTM有K個神經元"
      ],
      "execution_count": 0,
      "outputs": []
    },
    {
      "cell_type": "code",
      "metadata": {
        "id": "XuU_QC2I2MyH",
        "colab_type": "code",
        "colab": {
          "base_uri": "https://localhost:8080/",
          "height": 139
        },
        "outputId": "cc58d578-8ac8-47c1-bab8-f4882854cab8"
      },
      "source": [
        "model4 = Sequential()\n",
        "model4.add(Embedding(10000,N))\n",
        "model4.add(Dropout(0.5))\n",
        "model4.add(LSTM(K))\n",
        "model4.add(Dropout(0.3))\n",
        "model4.add(Dense(1,activation='sigmoid'))"
      ],
      "execution_count": 7,
      "outputs": [
        {
          "output_type": "stream",
          "text": [
            "WARNING:tensorflow:From /usr/local/lib/python3.6/dist-packages/tensorflow/python/framework/op_def_library.py:263: colocate_with (from tensorflow.python.framework.ops) is deprecated and will be removed in a future version.\n",
            "Instructions for updating:\n",
            "Colocations handled automatically by placer.\n",
            "WARNING:tensorflow:From /usr/local/lib/python3.6/dist-packages/keras/backend/tensorflow_backend.py:3445: calling dropout (from tensorflow.python.ops.nn_ops) with keep_prob is deprecated and will be removed in a future version.\n",
            "Instructions for updating:\n",
            "Please use `rate` instead of `keep_prob`. Rate should be set to `rate = 1 - keep_prob`.\n"
          ],
          "name": "stdout"
        }
      ]
    },
    {
      "cell_type": "code",
      "metadata": {
        "id": "hbCncqKo2Mvc",
        "colab_type": "code",
        "colab": {}
      },
      "source": [
        "model4.compile(loss='binary_crossentropy',optimizer='adam',metrics=['accuracy'])"
      ],
      "execution_count": 0,
      "outputs": []
    },
    {
      "cell_type": "code",
      "metadata": {
        "id": "X2BT2E9H2MsP",
        "colab_type": "code",
        "outputId": "92fd0514-fad3-4db1-f6f5-bd06087525c4",
        "colab": {
          "base_uri": "https://localhost:8080/",
          "height": 306
        }
      },
      "source": [
        "model4.summary()"
      ],
      "execution_count": 9,
      "outputs": [
        {
          "output_type": "stream",
          "text": [
            "_________________________________________________________________\n",
            "Layer (type)                 Output Shape              Param #   \n",
            "=================================================================\n",
            "embedding_1 (Embedding)      (None, None, 200)         2000000   \n",
            "_________________________________________________________________\n",
            "dropout_1 (Dropout)          (None, None, 200)         0         \n",
            "_________________________________________________________________\n",
            "lstm_1 (LSTM)                (None, 40)                38560     \n",
            "_________________________________________________________________\n",
            "dropout_2 (Dropout)          (None, 40)                0         \n",
            "_________________________________________________________________\n",
            "dense_1 (Dense)              (None, 1)                 41        \n",
            "=================================================================\n",
            "Total params: 2,038,601\n",
            "Trainable params: 2,038,601\n",
            "Non-trainable params: 0\n",
            "_________________________________________________________________\n"
          ],
          "name": "stdout"
        }
      ]
    },
    {
      "cell_type": "code",
      "metadata": {
        "id": "95_qTxhp-YyE",
        "colab_type": "code",
        "outputId": "2e50868f-bdb8-4c07-e42e-2acfb3ab45b0",
        "colab": {
          "base_uri": "https://localhost:8080/",
          "height": 190
        }
      },
      "source": [
        "model4.fit(x_train,y_train,batch_size=32,epochs=2,validation_data=(x_test,y_test))"
      ],
      "execution_count": 10,
      "outputs": [
        {
          "output_type": "stream",
          "text": [
            "WARNING:tensorflow:From /usr/local/lib/python3.6/dist-packages/tensorflow/python/ops/math_ops.py:3066: to_int32 (from tensorflow.python.ops.math_ops) is deprecated and will be removed in a future version.\n",
            "Instructions for updating:\n",
            "Use tf.cast instead.\n",
            "Train on 25000 samples, validate on 25000 samples\n",
            "Epoch 1/2\n",
            "25000/25000 [==============================] - 142s 6ms/step - loss: 0.4086 - acc: 0.8086 - val_loss: 0.3336 - val_acc: 0.8606\n",
            "Epoch 2/2\n",
            "25000/25000 [==============================] - 138s 6ms/step - loss: 0.2513 - acc: 0.9018 - val_loss: 0.3166 - val_acc: 0.8694\n"
          ],
          "name": "stdout"
        },
        {
          "output_type": "execute_result",
          "data": {
            "text/plain": [
              "<keras.callbacks.History at 0x7f09f6311e10>"
            ]
          },
          "metadata": {
            "tags": []
          },
          "execution_count": 10
        }
      ]
    },
    {
      "cell_type": "code",
      "metadata": {
        "id": "TDEV9kQc-Yvf",
        "colab_type": "code",
        "outputId": "08012b0a-89e6-4bfc-cb16-85eb030d3685",
        "colab": {
          "base_uri": "https://localhost:8080/",
          "height": 51
        }
      },
      "source": [
        "scores4 = model4.evaluate(x_test, y_test)\n",
        "print(\"Accuracy:\", scores4[1])"
      ],
      "execution_count": 11,
      "outputs": [
        {
          "output_type": "stream",
          "text": [
            "25000/25000 [==============================] - 18s 738us/step\n",
            "Accuracy: 0.86936\n"
          ],
          "name": "stdout"
        }
      ]
    },
    {
      "cell_type": "markdown",
      "metadata": {
        "id": "vFVto_YpJynq",
        "colab_type": "text"
      },
      "source": [
        "# 增加到$86.94\\%$了！！！"
      ]
    },
    {
      "cell_type": "code",
      "metadata": {
        "id": "qosRNaVg-YtA",
        "colab_type": "code",
        "colab": {}
      },
      "source": [
        "N=200 #文字要壓到N維\n",
        "K=25 #LSTM有K個神經元"
      ],
      "execution_count": 0,
      "outputs": []
    },
    {
      "cell_type": "code",
      "metadata": {
        "id": "4OMb8Dwc-YqW",
        "colab_type": "code",
        "colab": {}
      },
      "source": [
        "model5 = Sequential()\n",
        "model5.add(Embedding(10000,N))\n",
        "model5.add(Dropout(0.5))\n",
        "model5.add(LSTM(K))\n",
        "model5.add(Dropout(0.3))\n",
        "model5.add(Dense(1,activation='sigmoid'))"
      ],
      "execution_count": 0,
      "outputs": []
    },
    {
      "cell_type": "code",
      "metadata": {
        "id": "eWXJpO3J-Yn1",
        "colab_type": "code",
        "outputId": "7255cde9-689b-4c53-bfd6-667e78698f76",
        "colab": {
          "base_uri": "https://localhost:8080/",
          "height": 306
        }
      },
      "source": [
        "model5.compile(loss='binary_crossentropy',optimizer='adam',metrics=['accuracy'])\n",
        "model5.summary()"
      ],
      "execution_count": 25,
      "outputs": [
        {
          "output_type": "stream",
          "text": [
            "_________________________________________________________________\n",
            "Layer (type)                 Output Shape              Param #   \n",
            "=================================================================\n",
            "embedding_4 (Embedding)      (None, None, 200)         2000000   \n",
            "_________________________________________________________________\n",
            "dropout_7 (Dropout)          (None, None, 200)         0         \n",
            "_________________________________________________________________\n",
            "lstm_4 (LSTM)                (None, 25)                22600     \n",
            "_________________________________________________________________\n",
            "dropout_8 (Dropout)          (None, 25)                0         \n",
            "_________________________________________________________________\n",
            "dense_4 (Dense)              (None, 1)                 26        \n",
            "=================================================================\n",
            "Total params: 2,022,626\n",
            "Trainable params: 2,022,626\n",
            "Non-trainable params: 0\n",
            "_________________________________________________________________\n"
          ],
          "name": "stdout"
        }
      ]
    },
    {
      "cell_type": "code",
      "metadata": {
        "id": "YMFGPEQJ-Ykx",
        "colab_type": "code",
        "outputId": "32a1963a-85dc-4b5e-cfbd-5b3c5e458079",
        "colab": {
          "base_uri": "https://localhost:8080/",
          "height": 119
        }
      },
      "source": [
        "model5.fit(x_train,y_train,batch_size=32,epochs=2,validation_data=(x_test,y_test))"
      ],
      "execution_count": 26,
      "outputs": [
        {
          "output_type": "stream",
          "text": [
            "Train on 25000 samples, validate on 25000 samples\n",
            "Epoch 1/2\n",
            "25000/25000 [==============================] - 130s 5ms/step - loss: 0.4279 - acc: 0.7975 - val_loss: 0.3263 - val_acc: 0.8642\n",
            "Epoch 2/2\n",
            "25000/25000 [==============================] - 128s 5ms/step - loss: 0.2477 - acc: 0.9030 - val_loss: 0.3060 - val_acc: 0.8712\n"
          ],
          "name": "stdout"
        },
        {
          "output_type": "execute_result",
          "data": {
            "text/plain": [
              "<keras.callbacks.History at 0x7f09eee4f908>"
            ]
          },
          "metadata": {
            "tags": []
          },
          "execution_count": 26
        }
      ]
    },
    {
      "cell_type": "code",
      "metadata": {
        "id": "EYFrqu8pKFvh",
        "colab_type": "code",
        "outputId": "ac10bd5d-d936-4e4a-d8cd-dd930843c9e5",
        "colab": {
          "base_uri": "https://localhost:8080/",
          "height": 51
        }
      },
      "source": [
        "scores5 = model5.evaluate(x_test, y_test)\n",
        "print(\"Accuracy:\", scores5[1])"
      ],
      "execution_count": 27,
      "outputs": [
        {
          "output_type": "stream",
          "text": [
            "25000/25000 [==============================] - 16s 644us/step\n",
            "Accuracy: 0.87124\n"
          ],
          "name": "stdout"
        }
      ]
    },
    {
      "cell_type": "markdown",
      "metadata": {
        "id": "yee5BO5aRYBY",
        "colab_type": "text"
      },
      "source": [
        "# 成功突破$87\\%$了！！！！"
      ]
    }
  ]
}