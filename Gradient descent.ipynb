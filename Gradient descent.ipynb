{
 "cells": [
  {
   "cell_type": "code",
   "execution_count": 10,
   "metadata": {
    "collapsed": true
   },
   "outputs": [],
   "source": [
    "%matplotlib inline\n",
    "import numpy as np\n",
    "import matplotlib.pyplot as plt\n",
    "import seaborn as sns"
   ]
  },
  {
   "cell_type": "markdown",
   "metadata": {},
   "source": [
    "## We choose $f(x) = \\frac{e^x+cos(x)}{1+x^2}$ as loss function"
   ]
  },
  {
   "cell_type": "code",
   "execution_count": 11,
   "metadata": {
    "collapsed": true
   },
   "outputs": [],
   "source": [
    "def f(x):\n",
    "    return (np.exp(x)+np.cos(x))/(1+x**2)"
   ]
  },
  {
   "cell_type": "code",
   "execution_count": 13,
   "metadata": {},
   "outputs": [
    {
     "data": {
      "text/plain": [
       "[<matplotlib.lines.Line2D at 0x1a0fcb7510>]"
      ]
     },
     "execution_count": 13,
     "metadata": {},
     "output_type": "execute_result"
    },
    {
     "data": {
      "image/png": "[encoded data removed]",
      "text/plain": [
       "<matplotlib.figure.Figure at 0x1a0fc2c610>"
      ]
     },
     "metadata": {},
     "output_type": "display_data"
    }
   ],
   "source": [
    "x = np.linspace(-5,5,200)\n",
    "y = f(x)\n",
    "sns.set_style('darkgrid')\n",
    "plt.plot(x,y)"
   ]
  },
  {
   "cell_type": "markdown",
   "metadata": {},
   "source": [
    "# Get the derivative of $f$ at a certain point"
   ]
  },
  {
   "cell_type": "code",
   "execution_count": 16,
   "metadata": {
    "collapsed": true
   },
   "outputs": [],
   "source": [
    "from sympy import *\n",
    "def get_der(a):\n",
    "    x = Symbol('x')\n",
    "    y = (exp(x)+cos(x))/(1+x**2)\n",
    "    der_f = lambdify(x,y.diff(x),'numpy')\n",
    "    return der_f(a)"
   ]
  },
  {
   "cell_type": "markdown",
   "metadata": {},
   "source": [
    "# Define the gradient descent method\n",
    "\n",
    "Note that in this method. The given initial point will tends to the local minimum in the direction of the gradient of the current point. Moreover, the derivative of the loss function at the local minimum is 0. Thus, we seek for such point $a$ that $\\left\\vert\\ f'(a)\\right\\vert\\approx 0$.\n",
    "\n",
    "## Given $\\it{eta}$ as learning rate. The method runs at most 500 steps to the error less than $10^{-8}$"
   ]
  },
  {
   "cell_type": "code",
   "execution_count": 88,
   "metadata": {
    "collapsed": true
   },
   "outputs": [],
   "source": [
    "def grad_des(x_0, eta = 1,step = 500, err = 1e-8):\n",
    "    x_iter = []\n",
    "    x = x_0\n",
    "    dif = get_der(x)\n",
    "    n = 0\n",
    "    while (np.abs(dif) > err) & (n < step):\n",
    "        x_iter.append(x)\n",
    "        dif = get_der(x)\n",
    "        x -= eta*dif\n",
    "        n += 1\n",
    "    if n == step:\n",
    "        print('The number of iteration has reached the maximum steps without converges.')\n",
    "    return (n, x, x_iter)"
   ]
  },
  {
   "cell_type": "markdown",
   "metadata": {},
   "source": [
    "## Observe the plot of the loss function. Choose $x_0 = 3$ as initial point.\n",
    "\n",
    "We can see that it takes 14 steps of iterations until converges to the minimum $x_{min} = 1.7603882$ with an error less than $10^{-8}$."
   ]
  },
  {
   "cell_type": "code",
   "execution_count": 89,
   "metadata": {},
   "outputs": [
    {
     "data": {
      "text/plain": [
       "(14,\n",
       " 1.7603882052646898,\n",
       " [3,\n",
       "  2.1512909740824533,\n",
       "  1.8656633955308739,\n",
       "  1.7840677149467228,\n",
       "  1.7653551400008318,\n",
       "  1.7614121052902085,\n",
       "  1.7605984893019362,\n",
       "  1.7604313587033782,\n",
       "  1.7603970591741873,\n",
       "  1.7603900213690686,\n",
       "  1.7603885773622119,\n",
       "  1.7603882810853242,\n",
       "  1.760388220296244,\n",
       "  1.7603882078237523])"
      ]
     },
     "execution_count": 89,
     "metadata": {},
     "output_type": "execute_result"
    }
   ],
   "source": [
    "grad_des(3)"
   ]
  },
  {
   "cell_type": "markdown",
   "metadata": {},
   "source": [
    "## Plot the points with respect to each iteration"
   ]
  },
  {
   "cell_type": "code",
   "execution_count": 98,
   "metadata": {},
   "outputs": [
    {
     "data": {
      "text/plain": [
       "<matplotlib.collections.PathCollection at 0x1a11a1b450>"
      ]
     },
     "execution_count": 98,
     "metadata": {},
     "output_type": "execute_result"
    },
    {
     "data": {
      "image/png": "[encoded data removed]",
      "text/plain": [
       "<matplotlib.figure.Figure at 0x1a11a1b390>"
      ]
     },
     "metadata": {},
     "output_type": "display_data"
    }
   ],
   "source": [
    "x_iter = grad_des(3)[2]\n",
    "y_iter = []\n",
    "for i in range(len(x_iter)):\n",
    "    y_iter.append(f(x_iter[i]))\n",
    "\n",
    "x = np.linspace(0,4,200)\n",
    "y = f(x)\n",
    "sns.set_style('darkgrid')\n",
    "plt.plot(x,y)\n",
    "plt.scatter(x_iter, y_iter, c = 'r')"
   ]
  },
  {
   "cell_type": "markdown",
   "metadata": {},
   "source": [
    "## For another minimum of the function, we choose $x = 0$ as the initial point.\n",
    "\n",
    "We can see that it takes 103 steps of iterations until converges to the minimum $x_{min} = -2.6559993956563$ with an error less than $10^{-8}$."
   ]
  },
  {
   "cell_type": "code",
   "execution_count": 100,
   "metadata": {},
   "outputs": [
    {
     "data": {
      "text/plain": [
       "(103,\n",
       " -2.6559994050640627,\n",
       " [0,\n",
       "  -1.0,\n",
       "  -2.0587660865094604,\n",
       "  -2.2005415814650129,\n",
       "  -2.296169437876912,\n",
       "  -2.3658178452780914,\n",
       "  -2.4187888482900273,\n",
       "  -2.460216356592114,\n",
       "  -2.4932516260477562,\n",
       "  -2.519971662711471,\n",
       "  -2.5418173133105362,\n",
       "  -2.55982736017129,\n",
       "  -2.5747734605021098,\n",
       "  -2.5872426292125144,\n",
       "  -2.5976900816096165,\n",
       "  -2.6064744185246771,\n",
       "  -2.6138818238854888,\n",
       "  -2.6201431701997024,\n",
       "  -2.6254464007651834,\n",
       "  -2.6299456796526464,\n",
       "  -2.6337682764763355,\n",
       "  -2.6370198297670249,\n",
       "  -2.6397884276594392,\n",
       "  -2.6421478111288952,\n",
       "  -2.6441599161736691,\n",
       "  -2.6458769110049802,\n",
       "  -2.6473428425725696,\n",
       "  -2.6485949773987363,\n",
       "  -2.6496649007247344,\n",
       "  -2.6505794227790571,\n",
       "  -2.6513613298190908,\n",
       "  -2.652030009300427,\n",
       "  -2.6526019722850513,\n",
       "  -2.6530912914496092,\n",
       "  -2.6535099694027271,\n",
       "  -2.6538682491842653,\n",
       "  -2.6541748765963775,\n",
       "  -2.6544373222585191,\n",
       "  -2.6546619698772949,\n",
       "  -2.6548542760964637,\n",
       "  -2.6550189063819469,\n",
       "  -2.6551598506554384,\n",
       "  -2.6552805217832218,\n",
       "  -2.6553838395270444,\n",
       "  -2.6554723021505198,\n",
       "  -2.655548047531064,\n",
       "  -2.6556129053409472,\n",
       "  -2.6556684416213345,\n",
       "  -2.6557159968719994,\n",
       "  -2.6557567186100659,\n",
       "  -2.655791589208309,\n",
       "  -2.655821449702799,\n",
       "  -2.6558470201574487,\n",
       "  -2.6558689170863223,\n",
       "  -2.6558876683609229,\n",
       "  -2.6559037259670872,\n",
       "  -2.655917476922828,\n",
       "  -2.6559292526230864,\n",
       "  -2.6559393368386712,\n",
       "  -2.6559479725636548,\n",
       "  -2.6559553678773393,\n",
       "  -2.6559617009628496,\n",
       "  -2.6559671244038729,\n",
       "  -2.6559717688635005,\n",
       "  -2.6559757462341271,\n",
       "  -2.6559791523345311,\n",
       "  -2.6559820692192777,\n",
       "  -2.6559845671562128,\n",
       "  -2.6559867063197755,\n",
       "  -2.6559885382409885,\n",
       "  -2.6559901070491039,\n",
       "  -2.6559914505348576,\n",
       "  -2.6559926010609631,\n",
       "  -2.6559935863418036,\n",
       "  -2.655994430111114,\n",
       "  -2.6559951526937513,\n",
       "  -2.655995771495328,\n",
       "  -2.6559963014215149,\n",
       "  -2.6559967552371138,\n",
       "  -2.655997143873551,\n",
       "  -2.6559974766922076,\n",
       "  -2.655997761709922,\n",
       "  -2.6559980057921058,\n",
       "  -2.6559982148181196,\n",
       "  -2.6559983938228977,\n",
       "  -2.6559985471182301,\n",
       "  -2.6559986783966258,\n",
       "  -2.6559987908202563,\n",
       "  -2.6559988870971267,\n",
       "  -2.6559989695463062,\n",
       "  -2.6559990401537874,\n",
       "  -2.6559991006203263,\n",
       "  -2.6559991524024089,\n",
       "  -2.6559991967473331,\n",
       "  -2.6559992347232555,\n",
       "  -2.6559992672449186,\n",
       "  -2.6559992950956861,\n",
       "  -2.6559993189464115,\n",
       "  -2.6559993393715975,\n",
       "  -2.6559993568632341,\n",
       "  -2.65599937184265,\n",
       "  -2.6559993846706611,\n",
       "  -2.6559993956562602])"
      ]
     },
     "execution_count": 100,
     "metadata": {},
     "output_type": "execute_result"
    }
   ],
   "source": [
    "grad_des(0)"
   ]
  },
  {
   "cell_type": "code",
   "execution_count": 102,
   "metadata": {},
   "outputs": [
    {
     "data": {
      "text/plain": [
       "<matplotlib.collections.PathCollection at 0x1a11b03110>"
      ]
     },
     "execution_count": 102,
     "metadata": {},
     "output_type": "execute_result"
    },
    {
     "data": {
      "image/png": "[encoded data removed]",
      "text/plain": [
       "<matplotlib.figure.Figure at 0x1a11b03b10>"
      ]
     },
     "metadata": {},
     "output_type": "display_data"
    }
   ],
   "source": [
    "x_iter = grad_des(0)[2]\n",
    "y_iter = []\n",
    "for i in range(len(x_iter)):\n",
    "    y_iter.append(f(x_iter[i]))\n",
    "\n",
    "x = np.linspace(-4,0,200)\n",
    "y = f(x)\n",
    "sns.set_style('darkgrid')\n",
    "plt.plot(x,y)\n",
    "plt.scatter(x_iter, y_iter, c = 'r')"
   ]
  }
 ],
 "metadata": {
  "kernelspec": {
   "display_name": "Python 2",
   "language": "python",
   "name": "python2"
  },
  "language_info": {
   "codemirror_mode": {
    "name": "ipython",
    "version": 2
   },
   "file_extension": ".py",
   "mimetype": "text/x-python",
   "name": "python",
   "nbconvert_exporter": "python",
   "pygments_lexer": "ipython2",
   "version": "2.7.14"
  }
 },
 "nbformat": 4,
 "nbformat_minor": 2
}
