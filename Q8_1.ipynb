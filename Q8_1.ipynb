{
  "nbformat": 4,
  "nbformat_minor": 0,
  "metadata": {
    "colab": {
      "name": "Q8_1.ipynb",
      "version": "0.3.2",
      "provenance": [],
      "include_colab_link": true
    },
    "kernelspec": {
      "name": "python3",
      "display_name": "Python 3"
    }
  },
  "cells": [
    {
      "cell_type": "markdown",
      "metadata": {
        "id": "view-in-github",
        "colab_type": "text"
      },
      "source": [
        "<a href=\"https://colab.research.google.com/github/coldjoke123/python1/blob/master/Q8_1.ipynb\" target=\"_parent\"><img src=\"https://colab.research.google.com/assets/colab-badge.svg\" alt=\"Open In Colab\"/></a>"
      ]
    },
    {
      "metadata": {
        "id": "yVYE-36s-LI3",
        "colab_type": "text"
      },
      "cell_type": "markdown",
      "source": [
        "# 設計有分支的模型來鑑別手寫數字資料"
      ]
    },
    {
      "metadata": {
        "id": "5vOfmiAO7h3a",
        "colab_type": "code",
        "colab": {
          "base_uri": "https://localhost:8080/",
          "height": 34
        },
        "outputId": "36369484-63ec-4731-f1ce-cbbff77f8464"
      },
      "cell_type": "code",
      "source": [
        "%env KERAS_BACKEND = tensorflow"
      ],
      "execution_count": 1,
      "outputs": [
        {
          "output_type": "stream",
          "text": [
            "env: KERAS_BACKEND=tensorflow\n"
          ],
          "name": "stdout"
        }
      ]
    },
    {
      "metadata": {
        "id": "-B5KMbCr75b5",
        "colab_type": "code",
        "colab": {
          "base_uri": "https://localhost:8080/",
          "height": 34
        },
        "outputId": "ef651d04-0bf9-4b17-ac61-1e977172a5f3"
      },
      "cell_type": "code",
      "source": [
        "% matplotlib inline\n",
        "\n",
        "import numpy as np\n",
        "import matplotlib.pyplot as plt\n",
        "import pandas as pd\n",
        "\n",
        "from keras.layers import concatenate, add\n",
        "from keras.models import Sequential\n",
        "from keras.layers.core import Dense, Activation\n",
        "from keras.optimizers import SGD, Adam\n",
        "from keras.datasets import mnist\n",
        "from keras.utils import to_categorical\n",
        "from keras.models import Model\n",
        "from keras.layers import Input"
      ],
      "execution_count": 2,
      "outputs": [
        {
          "output_type": "stream",
          "text": [
            "Using TensorFlow backend.\n"
          ],
          "name": "stderr"
        }
      ]
    },
    {
      "metadata": {
        "id": "9F162_hG8c5K",
        "colab_type": "text"
      },
      "cell_type": "markdown",
      "source": [
        "# 讀取Mnist資料，並且標準化"
      ]
    },
    {
      "metadata": {
        "id": "Z_PNkfUM75n0",
        "colab_type": "code",
        "colab": {
          "base_uri": "https://localhost:8080/",
          "height": 51
        },
        "outputId": "9add0b49-b2fa-4e99-8cf9-ad7452d725a0"
      },
      "cell_type": "code",
      "source": [
        "(x_train0, y_train0), (x_test0, y_test0) = mnist.load_data()"
      ],
      "execution_count": 3,
      "outputs": [
        {
          "output_type": "stream",
          "text": [
            "Downloading data from https://s3.amazonaws.com/img-datasets/mnist.npz\n",
            "11493376/11490434 [==============================] - 1s 0us/step\n"
          ],
          "name": "stdout"
        }
      ]
    },
    {
      "metadata": {
        "id": "kRgeC6Z975qq",
        "colab_type": "code",
        "colab": {}
      },
      "cell_type": "code",
      "source": [
        "x_train = x_train0.reshape((60000,28*28))\n",
        "x_test = x_test0.reshape((10000,28*28))\n",
        "x_train -= x_train.min()\n",
        "x_train = x_train/x_train.max()\n",
        "x_test -= x_test.min()\n",
        "x_test = x_test/x_test.max()"
      ],
      "execution_count": 0,
      "outputs": []
    },
    {
      "metadata": {
        "id": "hByJ28-_75tU",
        "colab_type": "code",
        "colab": {}
      },
      "cell_type": "code",
      "source": [
        "y_train = to_categorical(y_train0, 10)\n",
        "y_test = to_categorical(y_test0, 10)"
      ],
      "execution_count": 0,
      "outputs": []
    },
    {
      "metadata": {
        "id": "swJGWnpL7gC-",
        "colab_type": "text"
      },
      "cell_type": "markdown",
      "source": [
        "# 建構一個有分支的Model 神經元個數使用上次的參數測試\n"
      ]
    },
    {
      "metadata": {
        "id": "bGf1r6U475wH",
        "colab_type": "code",
        "colab": {}
      },
      "cell_type": "code",
      "source": [
        "x = Input(shape=(784,))"
      ],
      "execution_count": 0,
      "outputs": []
    },
    {
      "metadata": {
        "id": "jjmd5usi75y1",
        "colab_type": "code",
        "colab": {}
      },
      "cell_type": "code",
      "source": [
        "f_1 = Dense(650,activation='relu') #784 -> 650\n",
        "f_11 = Dense(350,activation='sigmoid') #650 -> 350\n",
        "f_12 = Dense(350,activation='relu') #650 -> 350\n",
        "f_2 = Dense(10,activation='softmax') #350+350 -> 10"
      ],
      "execution_count": 0,
      "outputs": []
    },
    {
      "metadata": {
        "id": "g5kUzyRLDDlk",
        "colab_type": "code",
        "colab": {
          "base_uri": "https://localhost:8080/",
          "height": 88
        },
        "outputId": "4b6202d4-b39e-43f2-92c9-399c42d17344"
      },
      "cell_type": "code",
      "source": [
        "h_1 = f_1(x)\n",
        "h_11 = f_11(h_1)\n",
        "h_12 = f_12(h_1)\n",
        "u = concatenate([h_11,h_12])\n",
        "y = f_2(u)"
      ],
      "execution_count": 8,
      "outputs": [
        {
          "output_type": "stream",
          "text": [
            "WARNING:tensorflow:From /usr/local/lib/python3.6/dist-packages/tensorflow/python/framework/op_def_library.py:263: colocate_with (from tensorflow.python.framework.ops) is deprecated and will be removed in a future version.\n",
            "Instructions for updating:\n",
            "Colocations handled automatically by placer.\n"
          ],
          "name": "stdout"
        }
      ]
    },
    {
      "metadata": {
        "id": "9HCrfVHrDDoN",
        "colab_type": "code",
        "colab": {
          "base_uri": "https://localhost:8080/",
          "height": 357
        },
        "outputId": "57399bfc-b9c1-41b1-fbe8-19be8e7a8d4c"
      },
      "cell_type": "code",
      "source": [
        "model = Model(x, y)\n",
        "model.summary()"
      ],
      "execution_count": 9,
      "outputs": [
        {
          "output_type": "stream",
          "text": [
            "__________________________________________________________________________________________________\n",
            "Layer (type)                    Output Shape         Param #     Connected to                     \n",
            "==================================================================================================\n",
            "input_1 (InputLayer)            (None, 784)          0                                            \n",
            "__________________________________________________________________________________________________\n",
            "dense_1 (Dense)                 (None, 650)          510250      input_1[0][0]                    \n",
            "__________________________________________________________________________________________________\n",
            "dense_2 (Dense)                 (None, 350)          227850      dense_1[0][0]                    \n",
            "__________________________________________________________________________________________________\n",
            "dense_3 (Dense)                 (None, 350)          227850      dense_1[0][0]                    \n",
            "__________________________________________________________________________________________________\n",
            "concatenate_1 (Concatenate)     (None, 700)          0           dense_2[0][0]                    \n",
            "                                                                 dense_3[0][0]                    \n",
            "__________________________________________________________________________________________________\n",
            "dense_4 (Dense)                 (None, 10)           7010        concatenate_1[0][0]              \n",
            "==================================================================================================\n",
            "Total params: 972,960\n",
            "Trainable params: 972,960\n",
            "Non-trainable params: 0\n",
            "__________________________________________________________________________________________________\n"
          ],
          "name": "stdout"
        }
      ]
    },
    {
      "metadata": {
        "id": "NzNgwz_n5Vpm",
        "colab_type": "text"
      },
      "cell_type": "markdown",
      "source": [
        "# 下圖為此模型的圖像"
      ]
    },
    {
      "metadata": {
        "id": "A7bNaJB45Jlw",
        "colab_type": "code",
        "colab": {
          "base_uri": "https://localhost:8080/",
          "height": 470
        },
        "outputId": "13e7988b-ff4e-4dc9-e177-860d09e82da3"
      },
      "cell_type": "code",
      "source": [
        "from IPython.display import SVG\n",
        "from keras.utils.vis_utils import model_to_dot\n",
        "\n",
        "SVG(model_to_dot(model).create(prog='dot', format='svg'))"
      ],
      "execution_count": 23,
      "outputs": [
        {
          "output_type": "execute_result",
          "data": {
            "text/plain": [
              "<IPython.core.display.SVG object>"
            ],
            "image/svg+xml": "<svg height=\"337pt\" viewBox=\"0.00 0.00 240.00 337.00\" width=\"240pt\" xmlns=\"http://www.w3.org/2000/svg\" xmlns:xlink=\"http://www.w3.org/1999/xlink\">\n<g class=\"graph\" id=\"graph0\" transform=\"scale(1 1) rotate(0) translate(4 333)\">\n<title>G</title>\n<polygon fill=\"#ffffff\" points=\"-4,4 -4,-333 236,-333 236,4 -4,4\" stroke=\"transparent\"/>\n<!-- 140333868716608 -->\n<g class=\"node\" id=\"node1\">\n<title>140333868716608</title>\n<polygon fill=\"none\" points=\"49,-292.5 49,-328.5 182,-328.5 182,-292.5 49,-292.5\" stroke=\"#000000\"/>\n<text fill=\"#000000\" font-family=\"Times,serif\" font-size=\"14.00\" text-anchor=\"middle\" x=\"115.5\" y=\"-306.8\">input_1: InputLayer</text>\n</g>\n<!-- 140333512775720 -->\n<g class=\"node\" id=\"node2\">\n<title>140333512775720</title>\n<polygon fill=\"none\" points=\"62,-219.5 62,-255.5 169,-255.5 169,-219.5 62,-219.5\" stroke=\"#000000\"/>\n<text fill=\"#000000\" font-family=\"Times,serif\" font-size=\"14.00\" text-anchor=\"middle\" x=\"115.5\" y=\"-233.8\">dense_1: Dense</text>\n</g>\n<!-- 140333868716608&#45;&gt;140333512775720 -->\n<g class=\"edge\" id=\"edge1\">\n<title>140333868716608-&gt;140333512775720</title>\n<path d=\"M115.5,-292.4551C115.5,-284.3828 115.5,-274.6764 115.5,-265.6817\" fill=\"none\" stroke=\"#000000\"/>\n<polygon fill=\"#000000\" points=\"119.0001,-265.5903 115.5,-255.5904 112.0001,-265.5904 119.0001,-265.5903\" stroke=\"#000000\"/>\n</g>\n<!-- 140333512775832 -->\n<g class=\"node\" id=\"node3\">\n<title>140333512775832</title>\n<polygon fill=\"none\" points=\"0,-146.5 0,-182.5 107,-182.5 107,-146.5 0,-146.5\" stroke=\"#000000\"/>\n<text fill=\"#000000\" font-family=\"Times,serif\" font-size=\"14.00\" text-anchor=\"middle\" x=\"53.5\" y=\"-160.8\">dense_2: Dense</text>\n</g>\n<!-- 140333512775720&#45;&gt;140333512775832 -->\n<g class=\"edge\" id=\"edge2\">\n<title>140333512775720-&gt;140333512775832</title>\n<path d=\"M100.1742,-219.4551C92.7221,-210.6809 83.6302,-199.9759 75.4573,-190.353\" fill=\"none\" stroke=\"#000000\"/>\n<polygon fill=\"#000000\" points=\"78.0056,-187.9466 68.8644,-182.5904 72.6702,-192.4781 78.0056,-187.9466\" stroke=\"#000000\"/>\n</g>\n<!-- 140333512776280 -->\n<g class=\"node\" id=\"node4\">\n<title>140333512776280</title>\n<polygon fill=\"none\" points=\"125,-146.5 125,-182.5 232,-182.5 232,-146.5 125,-146.5\" stroke=\"#000000\"/>\n<text fill=\"#000000\" font-family=\"Times,serif\" font-size=\"14.00\" text-anchor=\"middle\" x=\"178.5\" y=\"-160.8\">dense_3: Dense</text>\n</g>\n<!-- 140333512775720&#45;&gt;140333512776280 -->\n<g class=\"edge\" id=\"edge3\">\n<title>140333512775720-&gt;140333512776280</title>\n<path d=\"M131.073,-219.4551C138.6452,-210.6809 147.8838,-199.9759 156.1885,-190.353\" fill=\"none\" stroke=\"#000000\"/>\n<polygon fill=\"#000000\" points=\"159.0039,-192.4477 162.8878,-182.5904 153.7045,-187.8742 159.0039,-192.4477\" stroke=\"#000000\"/>\n</g>\n<!-- 140333512775496 -->\n<g class=\"node\" id=\"node5\">\n<title>140333512775496</title>\n<polygon fill=\"none\" points=\"28,-73.5 28,-109.5 203,-109.5 203,-73.5 28,-73.5\" stroke=\"#000000\"/>\n<text fill=\"#000000\" font-family=\"Times,serif\" font-size=\"14.00\" text-anchor=\"middle\" x=\"115.5\" y=\"-87.8\">concatenate_1: Concatenate</text>\n</g>\n<!-- 140333512775832&#45;&gt;140333512775496 -->\n<g class=\"edge\" id=\"edge4\">\n<title>140333512775832-&gt;140333512775496</title>\n<path d=\"M68.8258,-146.4551C76.2779,-137.6809 85.3698,-126.9759 93.5427,-117.353\" fill=\"none\" stroke=\"#000000\"/>\n<polygon fill=\"#000000\" points=\"96.3298,-119.4781 100.1356,-109.5904 90.9944,-114.9466 96.3298,-119.4781\" stroke=\"#000000\"/>\n</g>\n<!-- 140333512776280&#45;&gt;140333512775496 -->\n<g class=\"edge\" id=\"edge5\">\n<title>140333512776280-&gt;140333512775496</title>\n<path d=\"M162.927,-146.4551C155.3548,-137.6809 146.1162,-126.9759 137.8115,-117.353\" fill=\"none\" stroke=\"#000000\"/>\n<polygon fill=\"#000000\" points=\"140.2955,-114.8742 131.1122,-109.5904 134.9961,-119.4477 140.2955,-114.8742\" stroke=\"#000000\"/>\n</g>\n<!-- 140333512776672 -->\n<g class=\"node\" id=\"node6\">\n<title>140333512776672</title>\n<polygon fill=\"none\" points=\"62,-.5 62,-36.5 169,-36.5 169,-.5 62,-.5\" stroke=\"#000000\"/>\n<text fill=\"#000000\" font-family=\"Times,serif\" font-size=\"14.00\" text-anchor=\"middle\" x=\"115.5\" y=\"-14.8\">dense_4: Dense</text>\n</g>\n<!-- 140333512775496&#45;&gt;140333512776672 -->\n<g class=\"edge\" id=\"edge6\">\n<title>140333512775496-&gt;140333512776672</title>\n<path d=\"M115.5,-73.4551C115.5,-65.3828 115.5,-55.6764 115.5,-46.6817\" fill=\"none\" stroke=\"#000000\"/>\n<polygon fill=\"#000000\" points=\"119.0001,-46.5903 115.5,-36.5904 112.0001,-46.5904 119.0001,-46.5903\" stroke=\"#000000\"/>\n</g>\n</g>\n</svg>"
          },
          "metadata": {
            "tags": []
          },
          "execution_count": 23
        }
      ]
    },
    {
      "metadata": {
        "id": "PQdRzyRK0fVz",
        "colab_type": "text"
      },
      "cell_type": "markdown",
      "source": [
        "# Loss function 選 binary cross entropy 且optimizer 選 SGD"
      ]
    },
    {
      "metadata": {
        "id": "xGZLQMLCz5BS",
        "colab_type": "code",
        "colab": {}
      },
      "cell_type": "code",
      "source": [
        "model.compile(loss='binary_crossentropy',optimizer=SGD(lr=0.05), metrics=['accuracy'])"
      ],
      "execution_count": 0,
      "outputs": []
    },
    {
      "metadata": {
        "id": "X2QmIlDaz5GK",
        "colab_type": "code",
        "colab": {
          "base_uri": "https://localhost:8080/",
          "height": 768
        },
        "outputId": "43067614-0187-41e1-cafd-783a59b02580"
      },
      "cell_type": "code",
      "source": [
        "model_1 = model.fit(x_train, y_train, batch_size=100, epochs=20)"
      ],
      "execution_count": 13,
      "outputs": [
        {
          "output_type": "stream",
          "text": [
            "WARNING:tensorflow:From /usr/local/lib/python3.6/dist-packages/tensorflow/python/ops/math_ops.py:3066: to_int32 (from tensorflow.python.ops.math_ops) is deprecated and will be removed in a future version.\n",
            "Instructions for updating:\n",
            "Use tf.cast instead.\n",
            "Epoch 1/20\n",
            "60000/60000 [==============================] - 11s 181us/step - loss: 0.2007 - acc: 0.9252\n",
            "Epoch 2/20\n",
            "60000/60000 [==============================] - 11s 191us/step - loss: 0.0841 - acc: 0.9727\n",
            "Epoch 3/20\n",
            "60000/60000 [==============================] - 12s 193us/step - loss: 0.0636 - acc: 0.9793\n",
            "Epoch 4/20\n",
            "60000/60000 [==============================] - 11s 180us/step - loss: 0.0558 - acc: 0.9817\n",
            "Epoch 5/20\n",
            "60000/60000 [==============================] - 11s 180us/step - loss: 0.0514 - acc: 0.9832\n",
            "Epoch 6/20\n",
            "60000/60000 [==============================] - 11s 188us/step - loss: 0.0482 - acc: 0.9841\n",
            "Epoch 7/20\n",
            "60000/60000 [==============================] - 11s 179us/step - loss: 0.0456 - acc: 0.9851\n",
            "Epoch 8/20\n",
            "60000/60000 [==============================] - 11s 186us/step - loss: 0.0434 - acc: 0.9858\n",
            "Epoch 9/20\n",
            "60000/60000 [==============================] - 11s 190us/step - loss: 0.0415 - acc: 0.9865\n",
            "Epoch 10/20\n",
            "60000/60000 [==============================] - 11s 178us/step - loss: 0.0397 - acc: 0.9872\n",
            "Epoch 11/20\n",
            "60000/60000 [==============================] - 11s 184us/step - loss: 0.0381 - acc: 0.9877\n",
            "Epoch 12/20\n",
            "60000/60000 [==============================] - 11s 185us/step - loss: 0.0366 - acc: 0.9883\n",
            "Epoch 13/20\n",
            "60000/60000 [==============================] - 11s 178us/step - loss: 0.0351 - acc: 0.9887\n",
            "Epoch 14/20\n",
            "60000/60000 [==============================] - 11s 190us/step - loss: 0.0338 - acc: 0.9893\n",
            "Epoch 15/20\n",
            "60000/60000 [==============================] - 11s 184us/step - loss: 0.0326 - acc: 0.9897\n",
            "Epoch 16/20\n",
            "60000/60000 [==============================] - 11s 189us/step - loss: 0.0314 - acc: 0.9900\n",
            "Epoch 17/20\n",
            "60000/60000 [==============================] - 11s 190us/step - loss: 0.0303 - acc: 0.9905\n",
            "Epoch 18/20\n",
            "60000/60000 [==============================] - 11s 182us/step - loss: 0.0293 - acc: 0.9909\n",
            "Epoch 19/20\n",
            "60000/60000 [==============================] - 11s 186us/step - loss: 0.0283 - acc: 0.9912\n",
            "Epoch 20/20\n",
            "60000/60000 [==============================] - 12s 194us/step - loss: 0.0273 - acc: 0.9914\n"
          ],
          "name": "stdout"
        }
      ]
    },
    {
      "metadata": {
        "id": "3AbBvi0Wz5IT",
        "colab_type": "code",
        "colab": {
          "base_uri": "https://localhost:8080/",
          "height": 68
        },
        "outputId": "138c27e7-e70d-4e81-b468-4f8bcd0c300a"
      },
      "cell_type": "code",
      "source": [
        "score = model.evaluate(x_test,y_test)\n",
        "print('loss:', score[0])\n",
        "print('正確率:', score[1])"
      ],
      "execution_count": 14,
      "outputs": [
        {
          "output_type": "stream",
          "text": [
            "10000/10000 [==============================] - 1s 107us/step\n",
            "loss: 0.02738337711514905\n",
            "正確率: 0.9911499994277954\n"
          ],
          "name": "stdout"
        }
      ]
    },
    {
      "metadata": {
        "id": "6SV443Giz5EJ",
        "colab_type": "code",
        "colab": {
          "base_uri": "https://localhost:8080/",
          "height": 295
        },
        "outputId": "917710a0-5b69-431a-91d3-43f6eaa7479e"
      },
      "cell_type": "code",
      "source": [
        "plt.plot(model_1.history[\"acc\"])\n",
        "         \n",
        "plt.title(\"model training accuracy\")\n",
        "plt.ylabel(\"accuracy\")\n",
        "plt.xlabel(\"epoch\")\n",
        "plt.legend(['model_1'], loc = 'best')\n",
        "plt.show()"
      ],
      "execution_count": 15,
      "outputs": [
        {
          "output_type": "display_data",
          "data": {
            "image/png": "[encoded data removed]",
            "text/plain": [
              "<Figure size 432x288 with 1 Axes>"
            ]
          },
          "metadata": {
            "tags": []
          }
        }
      ]
    },
    {
      "metadata": {
        "id": "Ty2uOQLx1zBW",
        "colab_type": "code",
        "colab": {
          "base_uri": "https://localhost:8080/",
          "height": 295
        },
        "outputId": "a7815225-03a3-4b18-d15a-3f61280ca3e7"
      },
      "cell_type": "code",
      "source": [
        "plt.plot(model_1.history['loss'])\n",
        "         \n",
        "plt.title(\"model loss\")\n",
        "plt.ylabel(\"loss\")\n",
        "plt.xlabel(\"epoch\")\n",
        "plt.legend(['model_1'], loc = 'best')\n",
        "plt.show()"
      ],
      "execution_count": 19,
      "outputs": [
        {
          "output_type": "display_data",
          "data": {
            "image/png": "[encoded data removed]",
            "text/plain": [
              "<Figure size 432x288 with 1 Axes>"
            ]
          },
          "metadata": {
            "tags": []
          }
        }
      ]
    },
    {
      "metadata": {
        "id": "3ish_Uih2WcH",
        "colab_type": "text"
      },
      "cell_type": "markdown",
      "source": [
        "# 由以上可以看出此分支的模型準確率高達了 $99.115\\%$!"
      ]
    }
  ]
}