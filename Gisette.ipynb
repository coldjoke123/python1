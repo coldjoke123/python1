{
  "nbformat": 4,
  "nbformat_minor": 0,
  "metadata": {
    "colab": {
      "name": "Gisette.ipynb",
      "version": "0.3.2",
      "provenance": [],
      "include_colab_link": true
    },
    "kernelspec": {
      "name": "python3",
      "display_name": "Python 3"
    }
  },
  "cells": [
    {
      "cell_type": "markdown",
      "metadata": {
        "id": "view-in-github",
        "colab_type": "text"
      },
      "source": [
        "<a href=\"https://colab.research.google.com/github/coldjoke123/python1/blob/master/Gisette.ipynb\" target=\"_parent\"><img src=\"https://colab.research.google.com/assets/colab-badge.svg\" alt=\"Open In Colab\"/></a>"
      ]
    },
    {
      "cell_type": "markdown",
      "metadata": {
        "id": "U7G7NoLbRMCq",
        "colab_type": "text"
      },
      "source": [
        "# 組員：洪彥仲、夏珮瑄"
      ]
    },
    {
      "cell_type": "markdown",
      "metadata": {
        "id": "lndk2dyWRMGB",
        "colab_type": "text"
      },
      "source": [
        "#主題：Gisette手寫資料的識別"
      ]
    },
    {
      "cell_type": "markdown",
      "metadata": {
        "id": "7ZZEiSiDRMIs",
        "colab_type": "text"
      },
      "source": [
        "#介紹：\n",
        "###Gisette資料取自於mnist手寫資料中的4與9，對其我們希望能以包括神經網絡的多種方法，例如random forest或SVM來對此資料進行識別，進而比較各個方法的準確率及優劣。"
      ]
    },
    {
      "cell_type": "markdown",
      "metadata": {
        "id": "FP9hJHkWRMLb",
        "colab_type": "text"
      },
      "source": [
        "# 實作方法：\n",
        "### 1. 由於Gisette資料是來自於某一次資訊競賽，其中包含了training data與validation data以及test data，然而test data並未給出分類的label，於是我們選取validation data做為我們的test data。\n",
        "### 2. 以包含神經網絡的多種方法來對其進行識別，預計將採用CNN、random forest、SVM及LDA進行學習，但可能視情況調整。\n",
        "### 3. 比較多種方法的準確性以及其loss function的趨勢。"
      ]
    },
    {
      "cell_type": "markdown",
      "metadata": {
        "id": "tCkV_C05RMN7",
        "colab_type": "text"
      },
      "source": [
        "#專案排程：\n",
        "### 5/22: 下載training 所需資料\n",
        "### 5/26: 資料前處理\n",
        "### 5/29: 嘗試不同的模型以及比較\n",
        "### 6/7: 上傳期末報告"
      ]
    },
    {
      "cell_type": "markdown",
      "metadata": {
        "id": "JHaWpCvPRMQj",
        "colab_type": "text"
      },
      "source": [
        "# 目前進度:\n",
        "### 已成功下載gisette資料並開始去了解該競賽對於其資料的預處理，由於該競賽有將資料進行打亂，目前正在了解其預處理的方法。預計下禮拜開始進行各個模型的學習。"
      ]
    }
  ]
}